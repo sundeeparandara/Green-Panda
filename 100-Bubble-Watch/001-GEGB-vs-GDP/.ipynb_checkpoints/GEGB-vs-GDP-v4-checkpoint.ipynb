{
 "cells": [
  {
   "cell_type": "markdown",
   "metadata": {},
   "source": [
    "# Equities minus Bonds vs. World GDP"
   ]
  },
  {
   "cell_type": "markdown",
   "metadata": {},
   "source": [
    "![](source-GEGB-vs-GDP.png)"
   ]
  },
  {
   "cell_type": "markdown",
   "metadata": {},
   "source": [
    "### Source\n",
    "\n",
    "Coursera, Investment Management Specialization\n",
    "\n",
    "Financial Markets & the Economy - The Link Between Equity Markets and The Growth-Inflation Mix\n",
    "\n",
    "Produced by Universite de Geneve\n",
    "\n",
    "Lecturer: Dr. Michel Girardin"
   ]
  },
  {
   "cell_type": "markdown",
   "metadata": {},
   "source": [
    "### Alternate Sources of Data\n",
    "\n",
    "As the data used in the original lecture slides is unavailable, alternate data that is judged to be equivalent is used.\n",
    "\n",
    "For Global Equities, Vanguard Global Equity Inv (VHGEX), source: \n",
    "https://uk.finance.yahoo.com/quote/VHGEX/history?p=VHGEX\n",
    "\n",
    "\n",
    "\n",
    "For Global Bonds, Vanguard Total Bond Market Index Inv (VBMFX), source:\n",
    "https://uk.finance.yahoo.com/quote/VBMFX?p=VBMFX\n",
    "\n",
    "\n",
    "\n",
    "For Global GDP, OECD, source:\n",
    "https://data.oecd.org/gdp/quarterly-gdp.htm, Extraction settings:\n",
    "    * Perspectives: [Total], [Percentage change, same period previous year]\n",
    "    * Countries: [OECD - Total]\n",
    "    * Time: [Quarterly]"
   ]
  },
  {
   "cell_type": "code",
   "execution_count": 7,
   "metadata": {},
   "outputs": [],
   "source": [
    "import pandas as pd\n",
    "import plotly.graph_objects as go\n",
    "from plotly.subplots import make_subplots\n",
    "%matplotlib inline"
   ]
  },
  {
   "cell_type": "markdown",
   "metadata": {},
   "source": [
    "### Load Data"
   ]
  },
  {
   "cell_type": "markdown",
   "metadata": {},
   "source": [
    "#### Global Equities"
   ]
  },
  {
   "cell_type": "code",
   "execution_count": 2,
   "metadata": {
    "scrolled": true
   },
   "outputs": [
    {
     "data": {
      "text/plain": [
       "Date\n",
       "1995-09-01    6.577370\n",
       "1995-09-05    6.603215\n",
       "1995-09-06    6.629058\n",
       "1995-09-07    6.641980\n",
       "1995-09-08    6.654903\n",
       "Name: Adj Close, dtype: float64"
      ]
     },
     "execution_count": 2,
     "metadata": {},
     "output_type": "execute_result"
    }
   ],
   "source": [
    "VHGEX_equities_df = pd.read_csv(\"VHGEX_OHLCV_YahooFinance_20210305_19950901.csv\")\n",
    "VHGEX_equities_df.set_index(\"Date\",inplace=True)\n",
    "VHGEX_equities_df.index = pd.to_datetime(VHGEX_equities_df.index)\n",
    "VHGEX_equities_df_close = VHGEX_equities_df['Adj Close']\n",
    "VHGEX_equities_df_close.head(1)"
   ]
  },
  {
   "cell_type": "code",
   "execution_count": 23,
   "metadata": {},
   "outputs": [
    {
     "data": {
      "text/plain": [
       "Date\n",
       "2021-03-05    39.18\n",
       "Name: Adj Close, dtype: float64"
      ]
     },
     "execution_count": 23,
     "metadata": {},
     "output_type": "execute_result"
    }
   ],
   "source": [
    "VHGEX_equities_df_close.tail(1)"
   ]
  },
  {
   "cell_type": "markdown",
   "metadata": {},
   "source": [
    "#### Global Bonds"
   ]
  },
  {
   "cell_type": "code",
   "execution_count": 3,
   "metadata": {
    "scrolled": true
   },
   "outputs": [
    {
     "data": {
      "text/plain": [
       "Date\n",
       "1986-12-11    1.733411\n",
       "1986-12-12    1.733411\n",
       "1986-12-15    1.728213\n",
       "1986-12-16    1.733411\n",
       "1986-12-17    1.733411\n",
       "Name: Adj Close, dtype: float64"
      ]
     },
     "execution_count": 3,
     "metadata": {},
     "output_type": "execute_result"
    }
   ],
   "source": [
    "VBMFX_bonds_df = pd.read_csv(\"VBMFX_OHLCV_YahooFinance_20210305_19861211.csv\")\n",
    "VBMFX_bonds_df.set_index(\"Date\",inplace=True)\n",
    "VBMFX_bonds_df.index = pd.to_datetime(VBMFX_bonds_df.index)\n",
    "VBMFX_bonds_df_close = VBMFX_bonds_df['Adj Close']\n",
    "VBMFX_bonds_df_close.head(1)"
   ]
  },
  {
   "cell_type": "code",
   "execution_count": 24,
   "metadata": {},
   "outputs": [
    {
     "data": {
      "text/plain": [
       "Date\n",
       "2021-03-05    11.23\n",
       "Name: Adj Close, dtype: float64"
      ]
     },
     "execution_count": 24,
     "metadata": {},
     "output_type": "execute_result"
    }
   ],
   "source": [
    "VBMFX_bonds_df_close.tail(1)"
   ]
  },
  {
   "cell_type": "markdown",
   "metadata": {},
   "source": [
    "#### GDP"
   ]
  },
  {
   "cell_type": "code",
   "execution_count": null,
   "metadata": {},
   "outputs": [],
   "source": []
  },
  {
   "cell_type": "markdown",
   "metadata": {},
   "source": [
    "### For Global Equities & Bonds, Calculate Year-on-Year Performance at Quarterly Intervals"
   ]
  },
  {
   "cell_type": "markdown",
   "metadata": {},
   "source": [
    "#### Global Equities"
   ]
  },
  {
   "cell_type": "code",
   "execution_count": 4,
   "metadata": {
    "scrolled": true
   },
   "outputs": [
    {
     "data": {
      "text/plain": [
       "Date\n",
       "1996-07-01    0.145137\n",
       "1996-10-01    0.136082\n",
       "1997-01-01    0.125575\n",
       "1997-04-01    0.061461\n",
       "1997-07-01    0.151571\n",
       "Freq: BQS-JAN, Name: Adj Close, dtype: float64"
      ]
     },
     "execution_count": 4,
     "metadata": {},
     "output_type": "execute_result"
    }
   ],
   "source": [
    "#https://www.codegrepper.com/code-examples/python/pandas+resample+documentation\n",
    "VHGEX_equities_df_close_bqs = VHGEX_equities_df_close.resample(\"BQS\").first() #bqs = business quarter start\n",
    "equities_bqs_YOY = VHGEX_equities_df_close_bqs.pct_change(periods=4).dropna()\n",
    "equities_bqs_YOY.head(1)"
   ]
  },
  {
   "cell_type": "code",
   "execution_count": 25,
   "metadata": {},
   "outputs": [
    {
     "data": {
      "text/plain": [
       "Date\n",
       "2021-01-01    0.176507\n",
       "Freq: BQS-JAN, Name: Adj Close, dtype: float64"
      ]
     },
     "execution_count": 25,
     "metadata": {},
     "output_type": "execute_result"
    }
   ],
   "source": [
    "equities_bqs_YOY.tail(1)"
   ]
  },
  {
   "cell_type": "markdown",
   "metadata": {},
   "source": [
    "#### Global Bonds"
   ]
  },
  {
   "cell_type": "code",
   "execution_count": 13,
   "metadata": {
    "scrolled": true
   },
   "outputs": [
    {
     "data": {
      "text/plain": [
       "Date\n",
       "1987-10-01   -0.045561\n",
       "1988-01-01    0.016298\n",
       "1988-04-01    0.033127\n",
       "1988-07-01    0.070870\n",
       "1988-10-03    0.125999\n",
       "Freq: BQS-JAN, Name: Adj Close, dtype: float64"
      ]
     },
     "execution_count": 13,
     "metadata": {},
     "output_type": "execute_result"
    }
   ],
   "source": [
    "VBMFX_bonds_df_close_bqs = VBMFX_bonds_df_close.resample(\"BQS\").first() #bqs = business quarter start\n",
    "bonds_bqs_YOY = VBMFX_bonds_df_close_bqs.pct_change(periods=4).dropna()\n",
    "bonds_bqs_YOY.head()"
   ]
  },
  {
   "cell_type": "code",
   "execution_count": 27,
   "metadata": {},
   "outputs": [
    {
     "data": {
      "text/plain": [
       "Date\n",
       "2021-01-01    0.071668\n",
       "Freq: BQS-JAN, Name: Adj Close, dtype: float64"
      ]
     },
     "execution_count": 27,
     "metadata": {},
     "output_type": "execute_result"
    }
   ],
   "source": [
    "bonds_bqs_YOY.tail(1)"
   ]
  },
  {
   "cell_type": "markdown",
   "metadata": {},
   "source": [
    "### For Global Equities & Bonds, Plot Quarterly Closing Price and Year-on-Year Performance at Quarterly Intervals"
   ]
  },
  {
   "cell_type": "markdown",
   "metadata": {},
   "source": [
    "#### Global Equities"
   ]
  },
  {
   "cell_type": "code",
   "execution_count": 12,
   "metadata": {},
   "outputs": [
    {
     "data": {
      "application/vnd.plotly.v1+json": {
       "config": {
        "plotlyServerURL": "https://plot.ly"
       },
       "data": [
        {
         "name": "Equities BQS Adj. Close",
         "type": "scatter",
         "x": [
          "1995-07-03T00:00:00",
          "1995-10-02T00:00:00",
          "1996-01-01T00:00:00",
          "1996-04-01T00:00:00",
          "1996-07-01T00:00:00",
          "1996-10-01T00:00:00",
          "1997-01-01T00:00:00",
          "1997-04-01T00:00:00",
          "1997-07-01T00:00:00",
          "1997-10-01T00:00:00",
          "1998-01-01T00:00:00",
          "1998-04-01T00:00:00",
          "1998-07-01T00:00:00",
          "1998-10-01T00:00:00",
          "1999-01-01T00:00:00",
          "1999-04-01T00:00:00",
          "1999-07-01T00:00:00",
          "1999-10-01T00:00:00",
          "2000-01-03T00:00:00",
          "2000-04-03T00:00:00",
          "2000-07-03T00:00:00",
          "2000-10-02T00:00:00",
          "2001-01-01T00:00:00",
          "2001-04-02T00:00:00",
          "2001-07-02T00:00:00",
          "2001-10-01T00:00:00",
          "2002-01-01T00:00:00",
          "2002-04-01T00:00:00",
          "2002-07-01T00:00:00",
          "2002-10-01T00:00:00",
          "2003-01-01T00:00:00",
          "2003-04-01T00:00:00",
          "2003-07-01T00:00:00",
          "2003-10-01T00:00:00",
          "2004-01-01T00:00:00",
          "2004-04-01T00:00:00",
          "2004-07-01T00:00:00",
          "2004-10-01T00:00:00",
          "2005-01-03T00:00:00",
          "2005-04-01T00:00:00",
          "2005-07-01T00:00:00",
          "2005-10-03T00:00:00",
          "2006-01-02T00:00:00",
          "2006-04-03T00:00:00",
          "2006-07-03T00:00:00",
          "2006-10-02T00:00:00",
          "2007-01-01T00:00:00",
          "2007-04-02T00:00:00",
          "2007-07-02T00:00:00",
          "2007-10-01T00:00:00",
          "2008-01-01T00:00:00",
          "2008-04-01T00:00:00",
          "2008-07-01T00:00:00",
          "2008-10-01T00:00:00",
          "2009-01-01T00:00:00",
          "2009-04-01T00:00:00",
          "2009-07-01T00:00:00",
          "2009-10-01T00:00:00",
          "2010-01-01T00:00:00",
          "2010-04-01T00:00:00",
          "2010-07-01T00:00:00",
          "2010-10-01T00:00:00",
          "2011-01-03T00:00:00",
          "2011-04-01T00:00:00",
          "2011-07-01T00:00:00",
          "2011-10-03T00:00:00",
          "2012-01-02T00:00:00",
          "2012-04-02T00:00:00",
          "2012-07-02T00:00:00",
          "2012-10-01T00:00:00",
          "2013-01-01T00:00:00",
          "2013-04-01T00:00:00",
          "2013-07-01T00:00:00",
          "2013-10-01T00:00:00",
          "2014-01-01T00:00:00",
          "2014-04-01T00:00:00",
          "2014-07-01T00:00:00",
          "2014-10-01T00:00:00",
          "2015-01-01T00:00:00",
          "2015-04-01T00:00:00",
          "2015-07-01T00:00:00",
          "2015-10-01T00:00:00",
          "2016-01-01T00:00:00",
          "2016-04-01T00:00:00",
          "2016-07-01T00:00:00",
          "2016-10-03T00:00:00",
          "2017-01-02T00:00:00",
          "2017-04-03T00:00:00",
          "2017-07-03T00:00:00",
          "2017-10-02T00:00:00",
          "2018-01-01T00:00:00",
          "2018-04-02T00:00:00",
          "2018-07-02T00:00:00",
          "2018-10-01T00:00:00",
          "2019-01-01T00:00:00",
          "2019-04-01T00:00:00",
          "2019-07-01T00:00:00",
          "2019-10-01T00:00:00",
          "2020-01-01T00:00:00",
          "2020-04-01T00:00:00",
          "2020-07-01T00:00:00",
          "2020-10-01T00:00:00",
          "2021-01-01T00:00:00"
         ],
         "xaxis": "x",
         "y": [
          6.577369999999999,
          6.635522,
          6.88156,
          7.284825,
          7.5319910000000005,
          7.538494,
          7.7457139999999995,
          7.7325539999999995,
          8.673619,
          8.930272,
          8.039981,
          9.045819,
          8.951941,
          7.282253999999999,
          8.264158,
          8.620194999999999,
          9.667765,
          9.414431,
          9.828955,
          9.697255,
          9.884408,
          9.482372999999999,
          8.875727000000001,
          8.444656,
          9.101858,
          7.787458999999999,
          8.252208,
          8.937508,
          8.812961,
          7.339339999999999,
          8.046726,
          7.611483,
          9.069312,
          10.02899,
          11.519475,
          12.029318,
          11.792869,
          12.021927999999999,
          13.434185000000001,
          13.456612,
          13.464089999999999,
          14.720044,
          15.072129,
          16.154118,
          16.25248,
          16.630796,
          17.591864,
          18.32773,
          20.167404,
          20.642651,
          18.292343,
          16.935623,
          16.202684,
          12.935635000000001,
          10.093996,
          8.775964,
          10.675239999999999,
          12.369850999999999,
          13.427367000000002,
          13.912892999999999,
          12.079608,
          14.105432999999998,
          15.374625,
          16.090515,
          16.380283,
          12.570717,
          14.171185000000001,
          15.896825,
          14.999146,
          15.931691,
          16.917284,
          17.831493,
          18.230907000000002,
          19.642157,
          20.883104,
          21.775391,
          22.694715,
          21.505001,
          22.001266,
          22.907307,
          23.017128,
          20.948792,
          21.560331,
          21.923393,
          22.156124,
          23.42219,
          23.604526999999997,
          25.163673,
          26.864559000000003,
          28.452053000000003,
          30.288753999999997,
          29.542067,
          30.106869,
          31.255621,
          25.441698000000002,
          29.113692999999998,
          30.279408,
          29.541121999999998,
          31.899525,
          23.842684,
          30.488832000000002,
          33.369823,
          37.529999
         ],
         "yaxis": "y"
        },
        {
         "name": "Equities BQS YoY",
         "type": "scatter",
         "x": [
          "1996-07-01T00:00:00",
          "1996-10-01T00:00:00",
          "1997-01-01T00:00:00",
          "1997-04-01T00:00:00",
          "1997-07-01T00:00:00",
          "1997-10-01T00:00:00",
          "1998-01-01T00:00:00",
          "1998-04-01T00:00:00",
          "1998-07-01T00:00:00",
          "1998-10-01T00:00:00",
          "1999-01-01T00:00:00",
          "1999-04-01T00:00:00",
          "1999-07-01T00:00:00",
          "1999-10-01T00:00:00",
          "2000-01-03T00:00:00",
          "2000-04-03T00:00:00",
          "2000-07-03T00:00:00",
          "2000-10-02T00:00:00",
          "2001-01-01T00:00:00",
          "2001-04-02T00:00:00",
          "2001-07-02T00:00:00",
          "2001-10-01T00:00:00",
          "2002-01-01T00:00:00",
          "2002-04-01T00:00:00",
          "2002-07-01T00:00:00",
          "2002-10-01T00:00:00",
          "2003-01-01T00:00:00",
          "2003-04-01T00:00:00",
          "2003-07-01T00:00:00",
          "2003-10-01T00:00:00",
          "2004-01-01T00:00:00",
          "2004-04-01T00:00:00",
          "2004-07-01T00:00:00",
          "2004-10-01T00:00:00",
          "2005-01-03T00:00:00",
          "2005-04-01T00:00:00",
          "2005-07-01T00:00:00",
          "2005-10-03T00:00:00",
          "2006-01-02T00:00:00",
          "2006-04-03T00:00:00",
          "2006-07-03T00:00:00",
          "2006-10-02T00:00:00",
          "2007-01-01T00:00:00",
          "2007-04-02T00:00:00",
          "2007-07-02T00:00:00",
          "2007-10-01T00:00:00",
          "2008-01-01T00:00:00",
          "2008-04-01T00:00:00",
          "2008-07-01T00:00:00",
          "2008-10-01T00:00:00",
          "2009-01-01T00:00:00",
          "2009-04-01T00:00:00",
          "2009-07-01T00:00:00",
          "2009-10-01T00:00:00",
          "2010-01-01T00:00:00",
          "2010-04-01T00:00:00",
          "2010-07-01T00:00:00",
          "2010-10-01T00:00:00",
          "2011-01-03T00:00:00",
          "2011-04-01T00:00:00",
          "2011-07-01T00:00:00",
          "2011-10-03T00:00:00",
          "2012-01-02T00:00:00",
          "2012-04-02T00:00:00",
          "2012-07-02T00:00:00",
          "2012-10-01T00:00:00",
          "2013-01-01T00:00:00",
          "2013-04-01T00:00:00",
          "2013-07-01T00:00:00",
          "2013-10-01T00:00:00",
          "2014-01-01T00:00:00",
          "2014-04-01T00:00:00",
          "2014-07-01T00:00:00",
          "2014-10-01T00:00:00",
          "2015-01-01T00:00:00",
          "2015-04-01T00:00:00",
          "2015-07-01T00:00:00",
          "2015-10-01T00:00:00",
          "2016-01-01T00:00:00",
          "2016-04-01T00:00:00",
          "2016-07-01T00:00:00",
          "2016-10-03T00:00:00",
          "2017-01-02T00:00:00",
          "2017-04-03T00:00:00",
          "2017-07-03T00:00:00",
          "2017-10-02T00:00:00",
          "2018-01-01T00:00:00",
          "2018-04-02T00:00:00",
          "2018-07-02T00:00:00",
          "2018-10-01T00:00:00",
          "2019-01-01T00:00:00",
          "2019-04-01T00:00:00",
          "2019-07-01T00:00:00",
          "2019-10-01T00:00:00",
          "2020-01-01T00:00:00",
          "2020-04-01T00:00:00",
          "2020-07-01T00:00:00",
          "2020-10-01T00:00:00",
          "2021-01-01T00:00:00"
         ],
         "xaxis": "x2",
         "y": [
          0.14513719009269677,
          0.13608153209348117,
          0.12557530559931163,
          0.06146050179654283,
          0.15157054754845034,
          0.18462281723644014,
          0.037990945702358614,
          0.16983586535574147,
          0.03208833590684579,
          -0.1845428672273366,
          0.027882777334921727,
          -0.047052013753536404,
          0.07996299350051572,
          0.2927908035067166,
          0.18934742051156328,
          0.12494612940890559,
          0.02240879872442103,
          0.0072167930276401115,
          -0.09698162215617012,
          -0.12917047143753568,
          -0.07917014352301122,
          -0.1787436541464884,
          -0.07024990741603498,
          0.058362590495101285,
          -0.031740442445927,
          -0.05754367374518443,
          -0.024900244879915823,
          -0.14836630076303148,
          0.02908795352662974,
          0.36647028206896004,
          0.4315729154938295,
          0.5804171145097481,
          0.3003046978646229,
          0.1987177173374386,
          0.16621504018195288,
          0.11865128180999118,
          0.1417145395238426,
          0.22443288630575742,
          0.12192358524168001,
          0.20045952131190226,
          0.20709828885576376,
          0.1298061337316656,
          0.16717843909111973,
          0.13455466897047552,
          0.2408816377562073,
          0.2412304859009755,
          0.03981835011912316,
          -0.07595632410560393,
          -0.19659049821186703,
          -0.3733539844276783,
          -0.448184631132272,
          -0.4818044780519736,
          -0.3411437265578964,
          -0.043738401709695895,
          0.33023304150308763,
          0.5853407101487653,
          0.1315537636624564,
          0.14030742973379384,
          0.14502158166973445,
          0.15651827409295826,
          0.356027695600718,
          -0.10880318243332188,
          -0.07827442945762897,
          -0.01203752645580336,
          -0.08431704140886942,
          0.26736533803123574,
          0.193780477779381,
          0.12170153474042755,
          0.2154630003601541,
          0.23289844122635817,
          0.23442415461016086,
          0.2211759834131668,
          0.24484837753820998,
          0.09483907495495525,
          0.053543860146461064,
          0.05198143169966496,
          0.014206523413050176,
          -0.025864169920289615,
          -0.020041346711593744,
          -0.04295197161324982,
          -0.037407099617293715,
          0.11806876501518548,
          0.09481283009987163,
          0.1478001146993988,
          0.21251167397329995,
          0.2147477669679907,
          0.2831756383002295,
          0.1739966180612822,
          0.12069098175034232,
          0.09853658011954347,
          -0.16002824018445905,
          -0.014500474865215107,
          0.005730884868831776,
          -0.05485410128309409,
          0.2538284590910558,
          -0.1810491372564793,
          0.006916383569982587,
          0.12960580847267744,
          0.1765065153791474
         ],
         "yaxis": "y2"
        }
       ],
       "layout": {
        "template": {
         "data": {
          "bar": [
           {
            "error_x": {
             "color": "#2a3f5f"
            },
            "error_y": {
             "color": "#2a3f5f"
            },
            "marker": {
             "line": {
              "color": "#E5ECF6",
              "width": 0.5
             }
            },
            "type": "bar"
           }
          ],
          "barpolar": [
           {
            "marker": {
             "line": {
              "color": "#E5ECF6",
              "width": 0.5
             }
            },
            "type": "barpolar"
           }
          ],
          "carpet": [
           {
            "aaxis": {
             "endlinecolor": "#2a3f5f",
             "gridcolor": "white",
             "linecolor": "white",
             "minorgridcolor": "white",
             "startlinecolor": "#2a3f5f"
            },
            "baxis": {
             "endlinecolor": "#2a3f5f",
             "gridcolor": "white",
             "linecolor": "white",
             "minorgridcolor": "white",
             "startlinecolor": "#2a3f5f"
            },
            "type": "carpet"
           }
          ],
          "choropleth": [
           {
            "colorbar": {
             "outlinewidth": 0,
             "ticks": ""
            },
            "type": "choropleth"
           }
          ],
          "contour": [
           {
            "colorbar": {
             "outlinewidth": 0,
             "ticks": ""
            },
            "colorscale": [
             [
              0,
              "#0d0887"
             ],
             [
              0.1111111111111111,
              "#46039f"
             ],
             [
              0.2222222222222222,
              "#7201a8"
             ],
             [
              0.3333333333333333,
              "#9c179e"
             ],
             [
              0.4444444444444444,
              "#bd3786"
             ],
             [
              0.5555555555555556,
              "#d8576b"
             ],
             [
              0.6666666666666666,
              "#ed7953"
             ],
             [
              0.7777777777777778,
              "#fb9f3a"
             ],
             [
              0.8888888888888888,
              "#fdca26"
             ],
             [
              1,
              "#f0f921"
             ]
            ],
            "type": "contour"
           }
          ],
          "contourcarpet": [
           {
            "colorbar": {
             "outlinewidth": 0,
             "ticks": ""
            },
            "type": "contourcarpet"
           }
          ],
          "heatmap": [
           {
            "colorbar": {
             "outlinewidth": 0,
             "ticks": ""
            },
            "colorscale": [
             [
              0,
              "#0d0887"
             ],
             [
              0.1111111111111111,
              "#46039f"
             ],
             [
              0.2222222222222222,
              "#7201a8"
             ],
             [
              0.3333333333333333,
              "#9c179e"
             ],
             [
              0.4444444444444444,
              "#bd3786"
             ],
             [
              0.5555555555555556,
              "#d8576b"
             ],
             [
              0.6666666666666666,
              "#ed7953"
             ],
             [
              0.7777777777777778,
              "#fb9f3a"
             ],
             [
              0.8888888888888888,
              "#fdca26"
             ],
             [
              1,
              "#f0f921"
             ]
            ],
            "type": "heatmap"
           }
          ],
          "heatmapgl": [
           {
            "colorbar": {
             "outlinewidth": 0,
             "ticks": ""
            },
            "colorscale": [
             [
              0,
              "#0d0887"
             ],
             [
              0.1111111111111111,
              "#46039f"
             ],
             [
              0.2222222222222222,
              "#7201a8"
             ],
             [
              0.3333333333333333,
              "#9c179e"
             ],
             [
              0.4444444444444444,
              "#bd3786"
             ],
             [
              0.5555555555555556,
              "#d8576b"
             ],
             [
              0.6666666666666666,
              "#ed7953"
             ],
             [
              0.7777777777777778,
              "#fb9f3a"
             ],
             [
              0.8888888888888888,
              "#fdca26"
             ],
             [
              1,
              "#f0f921"
             ]
            ],
            "type": "heatmapgl"
           }
          ],
          "histogram": [
           {
            "marker": {
             "colorbar": {
              "outlinewidth": 0,
              "ticks": ""
             }
            },
            "type": "histogram"
           }
          ],
          "histogram2d": [
           {
            "colorbar": {
             "outlinewidth": 0,
             "ticks": ""
            },
            "colorscale": [
             [
              0,
              "#0d0887"
             ],
             [
              0.1111111111111111,
              "#46039f"
             ],
             [
              0.2222222222222222,
              "#7201a8"
             ],
             [
              0.3333333333333333,
              "#9c179e"
             ],
             [
              0.4444444444444444,
              "#bd3786"
             ],
             [
              0.5555555555555556,
              "#d8576b"
             ],
             [
              0.6666666666666666,
              "#ed7953"
             ],
             [
              0.7777777777777778,
              "#fb9f3a"
             ],
             [
              0.8888888888888888,
              "#fdca26"
             ],
             [
              1,
              "#f0f921"
             ]
            ],
            "type": "histogram2d"
           }
          ],
          "histogram2dcontour": [
           {
            "colorbar": {
             "outlinewidth": 0,
             "ticks": ""
            },
            "colorscale": [
             [
              0,
              "#0d0887"
             ],
             [
              0.1111111111111111,
              "#46039f"
             ],
             [
              0.2222222222222222,
              "#7201a8"
             ],
             [
              0.3333333333333333,
              "#9c179e"
             ],
             [
              0.4444444444444444,
              "#bd3786"
             ],
             [
              0.5555555555555556,
              "#d8576b"
             ],
             [
              0.6666666666666666,
              "#ed7953"
             ],
             [
              0.7777777777777778,
              "#fb9f3a"
             ],
             [
              0.8888888888888888,
              "#fdca26"
             ],
             [
              1,
              "#f0f921"
             ]
            ],
            "type": "histogram2dcontour"
           }
          ],
          "mesh3d": [
           {
            "colorbar": {
             "outlinewidth": 0,
             "ticks": ""
            },
            "type": "mesh3d"
           }
          ],
          "parcoords": [
           {
            "line": {
             "colorbar": {
              "outlinewidth": 0,
              "ticks": ""
             }
            },
            "type": "parcoords"
           }
          ],
          "pie": [
           {
            "automargin": true,
            "type": "pie"
           }
          ],
          "scatter": [
           {
            "marker": {
             "colorbar": {
              "outlinewidth": 0,
              "ticks": ""
             }
            },
            "type": "scatter"
           }
          ],
          "scatter3d": [
           {
            "line": {
             "colorbar": {
              "outlinewidth": 0,
              "ticks": ""
             }
            },
            "marker": {
             "colorbar": {
              "outlinewidth": 0,
              "ticks": ""
             }
            },
            "type": "scatter3d"
           }
          ],
          "scattercarpet": [
           {
            "marker": {
             "colorbar": {
              "outlinewidth": 0,
              "ticks": ""
             }
            },
            "type": "scattercarpet"
           }
          ],
          "scattergeo": [
           {
            "marker": {
             "colorbar": {
              "outlinewidth": 0,
              "ticks": ""
             }
            },
            "type": "scattergeo"
           }
          ],
          "scattergl": [
           {
            "marker": {
             "colorbar": {
              "outlinewidth": 0,
              "ticks": ""
             }
            },
            "type": "scattergl"
           }
          ],
          "scattermapbox": [
           {
            "marker": {
             "colorbar": {
              "outlinewidth": 0,
              "ticks": ""
             }
            },
            "type": "scattermapbox"
           }
          ],
          "scatterpolar": [
           {
            "marker": {
             "colorbar": {
              "outlinewidth": 0,
              "ticks": ""
             }
            },
            "type": "scatterpolar"
           }
          ],
          "scatterpolargl": [
           {
            "marker": {
             "colorbar": {
              "outlinewidth": 0,
              "ticks": ""
             }
            },
            "type": "scatterpolargl"
           }
          ],
          "scatterternary": [
           {
            "marker": {
             "colorbar": {
              "outlinewidth": 0,
              "ticks": ""
             }
            },
            "type": "scatterternary"
           }
          ],
          "surface": [
           {
            "colorbar": {
             "outlinewidth": 0,
             "ticks": ""
            },
            "colorscale": [
             [
              0,
              "#0d0887"
             ],
             [
              0.1111111111111111,
              "#46039f"
             ],
             [
              0.2222222222222222,
              "#7201a8"
             ],
             [
              0.3333333333333333,
              "#9c179e"
             ],
             [
              0.4444444444444444,
              "#bd3786"
             ],
             [
              0.5555555555555556,
              "#d8576b"
             ],
             [
              0.6666666666666666,
              "#ed7953"
             ],
             [
              0.7777777777777778,
              "#fb9f3a"
             ],
             [
              0.8888888888888888,
              "#fdca26"
             ],
             [
              1,
              "#f0f921"
             ]
            ],
            "type": "surface"
           }
          ],
          "table": [
           {
            "cells": {
             "fill": {
              "color": "#EBF0F8"
             },
             "line": {
              "color": "white"
             }
            },
            "header": {
             "fill": {
              "color": "#C8D4E3"
             },
             "line": {
              "color": "white"
             }
            },
            "type": "table"
           }
          ]
         },
         "layout": {
          "annotationdefaults": {
           "arrowcolor": "#2a3f5f",
           "arrowhead": 0,
           "arrowwidth": 1
          },
          "coloraxis": {
           "colorbar": {
            "outlinewidth": 0,
            "ticks": ""
           }
          },
          "colorscale": {
           "diverging": [
            [
             0,
             "#8e0152"
            ],
            [
             0.1,
             "#c51b7d"
            ],
            [
             0.2,
             "#de77ae"
            ],
            [
             0.3,
             "#f1b6da"
            ],
            [
             0.4,
             "#fde0ef"
            ],
            [
             0.5,
             "#f7f7f7"
            ],
            [
             0.6,
             "#e6f5d0"
            ],
            [
             0.7,
             "#b8e186"
            ],
            [
             0.8,
             "#7fbc41"
            ],
            [
             0.9,
             "#4d9221"
            ],
            [
             1,
             "#276419"
            ]
           ],
           "sequential": [
            [
             0,
             "#0d0887"
            ],
            [
             0.1111111111111111,
             "#46039f"
            ],
            [
             0.2222222222222222,
             "#7201a8"
            ],
            [
             0.3333333333333333,
             "#9c179e"
            ],
            [
             0.4444444444444444,
             "#bd3786"
            ],
            [
             0.5555555555555556,
             "#d8576b"
            ],
            [
             0.6666666666666666,
             "#ed7953"
            ],
            [
             0.7777777777777778,
             "#fb9f3a"
            ],
            [
             0.8888888888888888,
             "#fdca26"
            ],
            [
             1,
             "#f0f921"
            ]
           ],
           "sequentialminus": [
            [
             0,
             "#0d0887"
            ],
            [
             0.1111111111111111,
             "#46039f"
            ],
            [
             0.2222222222222222,
             "#7201a8"
            ],
            [
             0.3333333333333333,
             "#9c179e"
            ],
            [
             0.4444444444444444,
             "#bd3786"
            ],
            [
             0.5555555555555556,
             "#d8576b"
            ],
            [
             0.6666666666666666,
             "#ed7953"
            ],
            [
             0.7777777777777778,
             "#fb9f3a"
            ],
            [
             0.8888888888888888,
             "#fdca26"
            ],
            [
             1,
             "#f0f921"
            ]
           ]
          },
          "colorway": [
           "#636efa",
           "#EF553B",
           "#00cc96",
           "#ab63fa",
           "#FFA15A",
           "#19d3f3",
           "#FF6692",
           "#B6E880",
           "#FF97FF",
           "#FECB52"
          ],
          "font": {
           "color": "#2a3f5f"
          },
          "geo": {
           "bgcolor": "white",
           "lakecolor": "white",
           "landcolor": "#E5ECF6",
           "showlakes": true,
           "showland": true,
           "subunitcolor": "white"
          },
          "hoverlabel": {
           "align": "left"
          },
          "hovermode": "closest",
          "mapbox": {
           "style": "light"
          },
          "paper_bgcolor": "white",
          "plot_bgcolor": "#E5ECF6",
          "polar": {
           "angularaxis": {
            "gridcolor": "white",
            "linecolor": "white",
            "ticks": ""
           },
           "bgcolor": "#E5ECF6",
           "radialaxis": {
            "gridcolor": "white",
            "linecolor": "white",
            "ticks": ""
           }
          },
          "scene": {
           "xaxis": {
            "backgroundcolor": "#E5ECF6",
            "gridcolor": "white",
            "gridwidth": 2,
            "linecolor": "white",
            "showbackground": true,
            "ticks": "",
            "zerolinecolor": "white"
           },
           "yaxis": {
            "backgroundcolor": "#E5ECF6",
            "gridcolor": "white",
            "gridwidth": 2,
            "linecolor": "white",
            "showbackground": true,
            "ticks": "",
            "zerolinecolor": "white"
           },
           "zaxis": {
            "backgroundcolor": "#E5ECF6",
            "gridcolor": "white",
            "gridwidth": 2,
            "linecolor": "white",
            "showbackground": true,
            "ticks": "",
            "zerolinecolor": "white"
           }
          },
          "shapedefaults": {
           "line": {
            "color": "#2a3f5f"
           }
          },
          "ternary": {
           "aaxis": {
            "gridcolor": "white",
            "linecolor": "white",
            "ticks": ""
           },
           "baxis": {
            "gridcolor": "white",
            "linecolor": "white",
            "ticks": ""
           },
           "bgcolor": "#E5ECF6",
           "caxis": {
            "gridcolor": "white",
            "linecolor": "white",
            "ticks": ""
           }
          },
          "title": {
           "x": 0.05
          },
          "xaxis": {
           "automargin": true,
           "gridcolor": "white",
           "linecolor": "white",
           "ticks": "",
           "title": {
            "standoff": 15
           },
           "zerolinecolor": "white",
           "zerolinewidth": 2
          },
          "yaxis": {
           "automargin": true,
           "gridcolor": "white",
           "linecolor": "white",
           "ticks": "",
           "title": {
            "standoff": 15
           },
           "zerolinecolor": "white",
           "zerolinewidth": 2
          }
         }
        },
        "xaxis": {
         "anchor": "y",
         "domain": [
          0,
          1
         ],
         "title": {
          "text": "Time"
         }
        },
        "xaxis2": {
         "anchor": "y2",
         "domain": [
          0,
          1
         ],
         "title": {
          "text": "Time"
         }
        },
        "yaxis": {
         "anchor": "x",
         "domain": [
          0.575,
          1
         ],
         "title": {
          "text": "USD"
         }
        },
        "yaxis2": {
         "anchor": "x2",
         "domain": [
          0,
          0.425
         ],
         "title": {
          "text": "% YoY"
         }
        }
       }
      },
      "text/html": [
       "<div>\n",
       "        \n",
       "        \n",
       "            <div id=\"468d5512-01f3-432a-9f97-008d7b6668b0\" class=\"plotly-graph-div\" style=\"height:525px; width:100%;\"></div>\n",
       "            <script type=\"text/javascript\">\n",
       "                require([\"plotly\"], function(Plotly) {\n",
       "                    window.PLOTLYENV=window.PLOTLYENV || {};\n",
       "                    \n",
       "                if (document.getElementById(\"468d5512-01f3-432a-9f97-008d7b6668b0\")) {\n",
       "                    Plotly.newPlot(\n",
       "                        '468d5512-01f3-432a-9f97-008d7b6668b0',\n",
       "                        [{\"name\": \"Equities BQS Adj. Close\", \"type\": \"scatter\", \"x\": [\"1995-07-03T00:00:00\", \"1995-10-02T00:00:00\", \"1996-01-01T00:00:00\", \"1996-04-01T00:00:00\", \"1996-07-01T00:00:00\", \"1996-10-01T00:00:00\", \"1997-01-01T00:00:00\", \"1997-04-01T00:00:00\", \"1997-07-01T00:00:00\", \"1997-10-01T00:00:00\", \"1998-01-01T00:00:00\", \"1998-04-01T00:00:00\", \"1998-07-01T00:00:00\", \"1998-10-01T00:00:00\", \"1999-01-01T00:00:00\", \"1999-04-01T00:00:00\", \"1999-07-01T00:00:00\", \"1999-10-01T00:00:00\", \"2000-01-03T00:00:00\", \"2000-04-03T00:00:00\", \"2000-07-03T00:00:00\", \"2000-10-02T00:00:00\", \"2001-01-01T00:00:00\", \"2001-04-02T00:00:00\", \"2001-07-02T00:00:00\", \"2001-10-01T00:00:00\", \"2002-01-01T00:00:00\", \"2002-04-01T00:00:00\", \"2002-07-01T00:00:00\", \"2002-10-01T00:00:00\", \"2003-01-01T00:00:00\", \"2003-04-01T00:00:00\", \"2003-07-01T00:00:00\", \"2003-10-01T00:00:00\", \"2004-01-01T00:00:00\", \"2004-04-01T00:00:00\", \"2004-07-01T00:00:00\", \"2004-10-01T00:00:00\", \"2005-01-03T00:00:00\", \"2005-04-01T00:00:00\", \"2005-07-01T00:00:00\", \"2005-10-03T00:00:00\", \"2006-01-02T00:00:00\", \"2006-04-03T00:00:00\", \"2006-07-03T00:00:00\", \"2006-10-02T00:00:00\", \"2007-01-01T00:00:00\", \"2007-04-02T00:00:00\", \"2007-07-02T00:00:00\", \"2007-10-01T00:00:00\", \"2008-01-01T00:00:00\", \"2008-04-01T00:00:00\", \"2008-07-01T00:00:00\", \"2008-10-01T00:00:00\", \"2009-01-01T00:00:00\", \"2009-04-01T00:00:00\", \"2009-07-01T00:00:00\", \"2009-10-01T00:00:00\", \"2010-01-01T00:00:00\", \"2010-04-01T00:00:00\", \"2010-07-01T00:00:00\", \"2010-10-01T00:00:00\", \"2011-01-03T00:00:00\", \"2011-04-01T00:00:00\", \"2011-07-01T00:00:00\", \"2011-10-03T00:00:00\", \"2012-01-02T00:00:00\", \"2012-04-02T00:00:00\", \"2012-07-02T00:00:00\", \"2012-10-01T00:00:00\", \"2013-01-01T00:00:00\", \"2013-04-01T00:00:00\", \"2013-07-01T00:00:00\", \"2013-10-01T00:00:00\", \"2014-01-01T00:00:00\", \"2014-04-01T00:00:00\", \"2014-07-01T00:00:00\", \"2014-10-01T00:00:00\", \"2015-01-01T00:00:00\", \"2015-04-01T00:00:00\", \"2015-07-01T00:00:00\", \"2015-10-01T00:00:00\", \"2016-01-01T00:00:00\", \"2016-04-01T00:00:00\", \"2016-07-01T00:00:00\", \"2016-10-03T00:00:00\", \"2017-01-02T00:00:00\", \"2017-04-03T00:00:00\", \"2017-07-03T00:00:00\", \"2017-10-02T00:00:00\", \"2018-01-01T00:00:00\", \"2018-04-02T00:00:00\", \"2018-07-02T00:00:00\", \"2018-10-01T00:00:00\", \"2019-01-01T00:00:00\", \"2019-04-01T00:00:00\", \"2019-07-01T00:00:00\", \"2019-10-01T00:00:00\", \"2020-01-01T00:00:00\", \"2020-04-01T00:00:00\", \"2020-07-01T00:00:00\", \"2020-10-01T00:00:00\", \"2021-01-01T00:00:00\"], \"xaxis\": \"x\", \"y\": [6.577369999999999, 6.635522, 6.88156, 7.284825, 7.5319910000000005, 7.538494, 7.7457139999999995, 7.7325539999999995, 8.673619, 8.930272, 8.039981, 9.045819, 8.951941, 7.282253999999999, 8.264158, 8.620194999999999, 9.667765, 9.414431, 9.828955, 9.697255, 9.884408, 9.482372999999999, 8.875727000000001, 8.444656, 9.101858, 7.787458999999999, 8.252208, 8.937508, 8.812961, 7.339339999999999, 8.046726, 7.611483, 9.069312, 10.02899, 11.519475, 12.029318, 11.792869, 12.021927999999999, 13.434185000000001, 13.456612, 13.464089999999999, 14.720044, 15.072129, 16.154118, 16.25248, 16.630796, 17.591864, 18.32773, 20.167404, 20.642651, 18.292343, 16.935623, 16.202684, 12.935635000000001, 10.093996, 8.775964, 10.675239999999999, 12.369850999999999, 13.427367000000002, 13.912892999999999, 12.079608, 14.105432999999998, 15.374625, 16.090515, 16.380283, 12.570717, 14.171185000000001, 15.896825, 14.999146, 15.931691, 16.917284, 17.831493, 18.230907000000002, 19.642157, 20.883104, 21.775391, 22.694715, 21.505001, 22.001266, 22.907307, 23.017128, 20.948792, 21.560331, 21.923393, 22.156124, 23.42219, 23.604526999999997, 25.163673, 26.864559000000003, 28.452053000000003, 30.288753999999997, 29.542067, 30.106869, 31.255621, 25.441698000000002, 29.113692999999998, 30.279408, 29.541121999999998, 31.899525, 23.842684, 30.488832000000002, 33.369823, 37.529999], \"yaxis\": \"y\"}, {\"name\": \"Equities BQS YoY\", \"type\": \"scatter\", \"x\": [\"1996-07-01T00:00:00\", \"1996-10-01T00:00:00\", \"1997-01-01T00:00:00\", \"1997-04-01T00:00:00\", \"1997-07-01T00:00:00\", \"1997-10-01T00:00:00\", \"1998-01-01T00:00:00\", \"1998-04-01T00:00:00\", \"1998-07-01T00:00:00\", \"1998-10-01T00:00:00\", \"1999-01-01T00:00:00\", \"1999-04-01T00:00:00\", \"1999-07-01T00:00:00\", \"1999-10-01T00:00:00\", \"2000-01-03T00:00:00\", \"2000-04-03T00:00:00\", \"2000-07-03T00:00:00\", \"2000-10-02T00:00:00\", \"2001-01-01T00:00:00\", \"2001-04-02T00:00:00\", \"2001-07-02T00:00:00\", \"2001-10-01T00:00:00\", \"2002-01-01T00:00:00\", \"2002-04-01T00:00:00\", \"2002-07-01T00:00:00\", \"2002-10-01T00:00:00\", \"2003-01-01T00:00:00\", \"2003-04-01T00:00:00\", \"2003-07-01T00:00:00\", \"2003-10-01T00:00:00\", \"2004-01-01T00:00:00\", \"2004-04-01T00:00:00\", \"2004-07-01T00:00:00\", \"2004-10-01T00:00:00\", \"2005-01-03T00:00:00\", \"2005-04-01T00:00:00\", \"2005-07-01T00:00:00\", \"2005-10-03T00:00:00\", \"2006-01-02T00:00:00\", \"2006-04-03T00:00:00\", \"2006-07-03T00:00:00\", \"2006-10-02T00:00:00\", \"2007-01-01T00:00:00\", \"2007-04-02T00:00:00\", \"2007-07-02T00:00:00\", \"2007-10-01T00:00:00\", \"2008-01-01T00:00:00\", \"2008-04-01T00:00:00\", \"2008-07-01T00:00:00\", \"2008-10-01T00:00:00\", \"2009-01-01T00:00:00\", \"2009-04-01T00:00:00\", \"2009-07-01T00:00:00\", \"2009-10-01T00:00:00\", \"2010-01-01T00:00:00\", \"2010-04-01T00:00:00\", \"2010-07-01T00:00:00\", \"2010-10-01T00:00:00\", \"2011-01-03T00:00:00\", \"2011-04-01T00:00:00\", \"2011-07-01T00:00:00\", \"2011-10-03T00:00:00\", \"2012-01-02T00:00:00\", \"2012-04-02T00:00:00\", \"2012-07-02T00:00:00\", \"2012-10-01T00:00:00\", \"2013-01-01T00:00:00\", \"2013-04-01T00:00:00\", \"2013-07-01T00:00:00\", \"2013-10-01T00:00:00\", \"2014-01-01T00:00:00\", \"2014-04-01T00:00:00\", \"2014-07-01T00:00:00\", \"2014-10-01T00:00:00\", \"2015-01-01T00:00:00\", \"2015-04-01T00:00:00\", \"2015-07-01T00:00:00\", \"2015-10-01T00:00:00\", \"2016-01-01T00:00:00\", \"2016-04-01T00:00:00\", \"2016-07-01T00:00:00\", \"2016-10-03T00:00:00\", \"2017-01-02T00:00:00\", \"2017-04-03T00:00:00\", \"2017-07-03T00:00:00\", \"2017-10-02T00:00:00\", \"2018-01-01T00:00:00\", \"2018-04-02T00:00:00\", \"2018-07-02T00:00:00\", \"2018-10-01T00:00:00\", \"2019-01-01T00:00:00\", \"2019-04-01T00:00:00\", \"2019-07-01T00:00:00\", \"2019-10-01T00:00:00\", \"2020-01-01T00:00:00\", \"2020-04-01T00:00:00\", \"2020-07-01T00:00:00\", \"2020-10-01T00:00:00\", \"2021-01-01T00:00:00\"], \"xaxis\": \"x2\", \"y\": [0.14513719009269677, 0.13608153209348117, 0.12557530559931163, 0.06146050179654283, 0.15157054754845034, 0.18462281723644014, 0.037990945702358614, 0.16983586535574147, 0.03208833590684579, -0.1845428672273366, 0.027882777334921727, -0.047052013753536404, 0.07996299350051572, 0.2927908035067166, 0.18934742051156328, 0.12494612940890559, 0.02240879872442103, 0.0072167930276401115, -0.09698162215617012, -0.12917047143753568, -0.07917014352301122, -0.1787436541464884, -0.07024990741603498, 0.058362590495101285, -0.031740442445927, -0.05754367374518443, -0.024900244879915823, -0.14836630076303148, 0.02908795352662974, 0.36647028206896004, 0.4315729154938295, 0.5804171145097481, 0.3003046978646229, 0.1987177173374386, 0.16621504018195288, 0.11865128180999118, 0.1417145395238426, 0.22443288630575742, 0.12192358524168001, 0.20045952131190226, 0.20709828885576376, 0.1298061337316656, 0.16717843909111973, 0.13455466897047552, 0.2408816377562073, 0.2412304859009755, 0.03981835011912316, -0.07595632410560393, -0.19659049821186703, -0.3733539844276783, -0.448184631132272, -0.4818044780519736, -0.3411437265578964, -0.043738401709695895, 0.33023304150308763, 0.5853407101487653, 0.1315537636624564, 0.14030742973379384, 0.14502158166973445, 0.15651827409295826, 0.356027695600718, -0.10880318243332188, -0.07827442945762897, -0.01203752645580336, -0.08431704140886942, 0.26736533803123574, 0.193780477779381, 0.12170153474042755, 0.2154630003601541, 0.23289844122635817, 0.23442415461016086, 0.2211759834131668, 0.24484837753820998, 0.09483907495495525, 0.053543860146461064, 0.05198143169966496, 0.014206523413050176, -0.025864169920289615, -0.020041346711593744, -0.04295197161324982, -0.037407099617293715, 0.11806876501518548, 0.09481283009987163, 0.1478001146993988, 0.21251167397329995, 0.2147477669679907, 0.2831756383002295, 0.1739966180612822, 0.12069098175034232, 0.09853658011954347, -0.16002824018445905, -0.014500474865215107, 0.005730884868831776, -0.05485410128309409, 0.2538284590910558, -0.1810491372564793, 0.006916383569982587, 0.12960580847267744, 0.1765065153791474], \"yaxis\": \"y2\"}],\n",
       "                        {\"template\": {\"data\": {\"bar\": [{\"error_x\": {\"color\": \"#2a3f5f\"}, \"error_y\": {\"color\": \"#2a3f5f\"}, \"marker\": {\"line\": {\"color\": \"#E5ECF6\", \"width\": 0.5}}, \"type\": \"bar\"}], \"barpolar\": [{\"marker\": {\"line\": {\"color\": \"#E5ECF6\", \"width\": 0.5}}, \"type\": \"barpolar\"}], \"carpet\": [{\"aaxis\": {\"endlinecolor\": \"#2a3f5f\", \"gridcolor\": \"white\", \"linecolor\": \"white\", \"minorgridcolor\": \"white\", \"startlinecolor\": \"#2a3f5f\"}, \"baxis\": {\"endlinecolor\": \"#2a3f5f\", \"gridcolor\": \"white\", \"linecolor\": \"white\", \"minorgridcolor\": \"white\", \"startlinecolor\": \"#2a3f5f\"}, \"type\": \"carpet\"}], \"choropleth\": [{\"colorbar\": {\"outlinewidth\": 0, \"ticks\": \"\"}, \"type\": \"choropleth\"}], \"contour\": [{\"colorbar\": {\"outlinewidth\": 0, \"ticks\": \"\"}, \"colorscale\": [[0.0, \"#0d0887\"], [0.1111111111111111, \"#46039f\"], [0.2222222222222222, \"#7201a8\"], [0.3333333333333333, \"#9c179e\"], [0.4444444444444444, \"#bd3786\"], [0.5555555555555556, \"#d8576b\"], [0.6666666666666666, \"#ed7953\"], [0.7777777777777778, \"#fb9f3a\"], [0.8888888888888888, \"#fdca26\"], [1.0, \"#f0f921\"]], \"type\": \"contour\"}], \"contourcarpet\": [{\"colorbar\": {\"outlinewidth\": 0, \"ticks\": \"\"}, \"type\": \"contourcarpet\"}], \"heatmap\": [{\"colorbar\": {\"outlinewidth\": 0, \"ticks\": \"\"}, \"colorscale\": [[0.0, \"#0d0887\"], [0.1111111111111111, \"#46039f\"], [0.2222222222222222, \"#7201a8\"], [0.3333333333333333, \"#9c179e\"], [0.4444444444444444, \"#bd3786\"], [0.5555555555555556, \"#d8576b\"], [0.6666666666666666, \"#ed7953\"], [0.7777777777777778, \"#fb9f3a\"], [0.8888888888888888, \"#fdca26\"], [1.0, \"#f0f921\"]], \"type\": \"heatmap\"}], \"heatmapgl\": [{\"colorbar\": {\"outlinewidth\": 0, \"ticks\": \"\"}, \"colorscale\": [[0.0, \"#0d0887\"], [0.1111111111111111, \"#46039f\"], [0.2222222222222222, \"#7201a8\"], [0.3333333333333333, \"#9c179e\"], [0.4444444444444444, \"#bd3786\"], [0.5555555555555556, \"#d8576b\"], [0.6666666666666666, \"#ed7953\"], [0.7777777777777778, \"#fb9f3a\"], [0.8888888888888888, \"#fdca26\"], [1.0, \"#f0f921\"]], \"type\": \"heatmapgl\"}], \"histogram\": [{\"marker\": {\"colorbar\": {\"outlinewidth\": 0, \"ticks\": \"\"}}, \"type\": \"histogram\"}], \"histogram2d\": [{\"colorbar\": {\"outlinewidth\": 0, \"ticks\": \"\"}, \"colorscale\": [[0.0, \"#0d0887\"], [0.1111111111111111, \"#46039f\"], [0.2222222222222222, \"#7201a8\"], [0.3333333333333333, \"#9c179e\"], [0.4444444444444444, \"#bd3786\"], [0.5555555555555556, \"#d8576b\"], [0.6666666666666666, \"#ed7953\"], [0.7777777777777778, \"#fb9f3a\"], [0.8888888888888888, \"#fdca26\"], [1.0, \"#f0f921\"]], \"type\": \"histogram2d\"}], \"histogram2dcontour\": [{\"colorbar\": {\"outlinewidth\": 0, \"ticks\": \"\"}, \"colorscale\": [[0.0, \"#0d0887\"], [0.1111111111111111, \"#46039f\"], [0.2222222222222222, \"#7201a8\"], [0.3333333333333333, \"#9c179e\"], [0.4444444444444444, \"#bd3786\"], [0.5555555555555556, \"#d8576b\"], [0.6666666666666666, \"#ed7953\"], [0.7777777777777778, \"#fb9f3a\"], [0.8888888888888888, \"#fdca26\"], [1.0, \"#f0f921\"]], \"type\": \"histogram2dcontour\"}], \"mesh3d\": [{\"colorbar\": {\"outlinewidth\": 0, \"ticks\": \"\"}, \"type\": \"mesh3d\"}], \"parcoords\": [{\"line\": {\"colorbar\": {\"outlinewidth\": 0, \"ticks\": \"\"}}, \"type\": \"parcoords\"}], \"pie\": [{\"automargin\": true, \"type\": \"pie\"}], \"scatter\": [{\"marker\": {\"colorbar\": {\"outlinewidth\": 0, \"ticks\": \"\"}}, \"type\": \"scatter\"}], \"scatter3d\": [{\"line\": {\"colorbar\": {\"outlinewidth\": 0, \"ticks\": \"\"}}, \"marker\": {\"colorbar\": {\"outlinewidth\": 0, \"ticks\": \"\"}}, \"type\": \"scatter3d\"}], \"scattercarpet\": [{\"marker\": {\"colorbar\": {\"outlinewidth\": 0, \"ticks\": \"\"}}, \"type\": \"scattercarpet\"}], \"scattergeo\": [{\"marker\": {\"colorbar\": {\"outlinewidth\": 0, \"ticks\": \"\"}}, \"type\": \"scattergeo\"}], \"scattergl\": [{\"marker\": {\"colorbar\": {\"outlinewidth\": 0, \"ticks\": \"\"}}, \"type\": \"scattergl\"}], \"scattermapbox\": [{\"marker\": {\"colorbar\": {\"outlinewidth\": 0, \"ticks\": \"\"}}, \"type\": \"scattermapbox\"}], \"scatterpolar\": [{\"marker\": {\"colorbar\": {\"outlinewidth\": 0, \"ticks\": \"\"}}, \"type\": \"scatterpolar\"}], \"scatterpolargl\": [{\"marker\": {\"colorbar\": {\"outlinewidth\": 0, \"ticks\": \"\"}}, \"type\": \"scatterpolargl\"}], \"scatterternary\": [{\"marker\": {\"colorbar\": {\"outlinewidth\": 0, \"ticks\": \"\"}}, \"type\": \"scatterternary\"}], \"surface\": [{\"colorbar\": {\"outlinewidth\": 0, \"ticks\": \"\"}, \"colorscale\": [[0.0, \"#0d0887\"], [0.1111111111111111, \"#46039f\"], [0.2222222222222222, \"#7201a8\"], [0.3333333333333333, \"#9c179e\"], [0.4444444444444444, \"#bd3786\"], [0.5555555555555556, \"#d8576b\"], [0.6666666666666666, \"#ed7953\"], [0.7777777777777778, \"#fb9f3a\"], [0.8888888888888888, \"#fdca26\"], [1.0, \"#f0f921\"]], \"type\": \"surface\"}], \"table\": [{\"cells\": {\"fill\": {\"color\": \"#EBF0F8\"}, \"line\": {\"color\": \"white\"}}, \"header\": {\"fill\": {\"color\": \"#C8D4E3\"}, \"line\": {\"color\": \"white\"}}, \"type\": \"table\"}]}, \"layout\": {\"annotationdefaults\": {\"arrowcolor\": \"#2a3f5f\", \"arrowhead\": 0, \"arrowwidth\": 1}, \"coloraxis\": {\"colorbar\": {\"outlinewidth\": 0, \"ticks\": \"\"}}, \"colorscale\": {\"diverging\": [[0, \"#8e0152\"], [0.1, \"#c51b7d\"], [0.2, \"#de77ae\"], [0.3, \"#f1b6da\"], [0.4, \"#fde0ef\"], [0.5, \"#f7f7f7\"], [0.6, \"#e6f5d0\"], [0.7, \"#b8e186\"], [0.8, \"#7fbc41\"], [0.9, \"#4d9221\"], [1, \"#276419\"]], \"sequential\": [[0.0, \"#0d0887\"], [0.1111111111111111, \"#46039f\"], [0.2222222222222222, \"#7201a8\"], [0.3333333333333333, \"#9c179e\"], [0.4444444444444444, \"#bd3786\"], [0.5555555555555556, \"#d8576b\"], [0.6666666666666666, \"#ed7953\"], [0.7777777777777778, \"#fb9f3a\"], [0.8888888888888888, \"#fdca26\"], [1.0, \"#f0f921\"]], \"sequentialminus\": [[0.0, \"#0d0887\"], [0.1111111111111111, \"#46039f\"], [0.2222222222222222, \"#7201a8\"], [0.3333333333333333, \"#9c179e\"], [0.4444444444444444, \"#bd3786\"], [0.5555555555555556, \"#d8576b\"], [0.6666666666666666, \"#ed7953\"], [0.7777777777777778, \"#fb9f3a\"], [0.8888888888888888, \"#fdca26\"], [1.0, \"#f0f921\"]]}, \"colorway\": [\"#636efa\", \"#EF553B\", \"#00cc96\", \"#ab63fa\", \"#FFA15A\", \"#19d3f3\", \"#FF6692\", \"#B6E880\", \"#FF97FF\", \"#FECB52\"], \"font\": {\"color\": \"#2a3f5f\"}, \"geo\": {\"bgcolor\": \"white\", \"lakecolor\": \"white\", \"landcolor\": \"#E5ECF6\", \"showlakes\": true, \"showland\": true, \"subunitcolor\": \"white\"}, \"hoverlabel\": {\"align\": \"left\"}, \"hovermode\": \"closest\", \"mapbox\": {\"style\": \"light\"}, \"paper_bgcolor\": \"white\", \"plot_bgcolor\": \"#E5ECF6\", \"polar\": {\"angularaxis\": {\"gridcolor\": \"white\", \"linecolor\": \"white\", \"ticks\": \"\"}, \"bgcolor\": \"#E5ECF6\", \"radialaxis\": {\"gridcolor\": \"white\", \"linecolor\": \"white\", \"ticks\": \"\"}}, \"scene\": {\"xaxis\": {\"backgroundcolor\": \"#E5ECF6\", \"gridcolor\": \"white\", \"gridwidth\": 2, \"linecolor\": \"white\", \"showbackground\": true, \"ticks\": \"\", \"zerolinecolor\": \"white\"}, \"yaxis\": {\"backgroundcolor\": \"#E5ECF6\", \"gridcolor\": \"white\", \"gridwidth\": 2, \"linecolor\": \"white\", \"showbackground\": true, \"ticks\": \"\", \"zerolinecolor\": \"white\"}, \"zaxis\": {\"backgroundcolor\": \"#E5ECF6\", \"gridcolor\": \"white\", \"gridwidth\": 2, \"linecolor\": \"white\", \"showbackground\": true, \"ticks\": \"\", \"zerolinecolor\": \"white\"}}, \"shapedefaults\": {\"line\": {\"color\": \"#2a3f5f\"}}, \"ternary\": {\"aaxis\": {\"gridcolor\": \"white\", \"linecolor\": \"white\", \"ticks\": \"\"}, \"baxis\": {\"gridcolor\": \"white\", \"linecolor\": \"white\", \"ticks\": \"\"}, \"bgcolor\": \"#E5ECF6\", \"caxis\": {\"gridcolor\": \"white\", \"linecolor\": \"white\", \"ticks\": \"\"}}, \"title\": {\"x\": 0.05}, \"xaxis\": {\"automargin\": true, \"gridcolor\": \"white\", \"linecolor\": \"white\", \"ticks\": \"\", \"title\": {\"standoff\": 15}, \"zerolinecolor\": \"white\", \"zerolinewidth\": 2}, \"yaxis\": {\"automargin\": true, \"gridcolor\": \"white\", \"linecolor\": \"white\", \"ticks\": \"\", \"title\": {\"standoff\": 15}, \"zerolinecolor\": \"white\", \"zerolinewidth\": 2}}}, \"xaxis\": {\"anchor\": \"y\", \"domain\": [0.0, 1.0], \"title\": {\"text\": \"Time\"}}, \"xaxis2\": {\"anchor\": \"y2\", \"domain\": [0.0, 1.0], \"title\": {\"text\": \"Time\"}}, \"yaxis\": {\"anchor\": \"x\", \"domain\": [0.575, 1.0], \"title\": {\"text\": \"USD\"}}, \"yaxis2\": {\"anchor\": \"x2\", \"domain\": [0.0, 0.425], \"title\": {\"text\": \"% YoY\"}}},\n",
       "                        {\"responsive\": true}\n",
       "                    ).then(function(){\n",
       "                            \n",
       "var gd = document.getElementById('468d5512-01f3-432a-9f97-008d7b6668b0');\n",
       "var x = new MutationObserver(function (mutations, observer) {{\n",
       "        var display = window.getComputedStyle(gd).display;\n",
       "        if (!display || display === 'none') {{\n",
       "            console.log([gd, 'removed!']);\n",
       "            Plotly.purge(gd);\n",
       "            observer.disconnect();\n",
       "        }}\n",
       "}});\n",
       "\n",
       "// Listen for the removal of the full notebook cells\n",
       "var notebookContainer = gd.closest('#notebook-container');\n",
       "if (notebookContainer) {{\n",
       "    x.observe(notebookContainer, {childList: true});\n",
       "}}\n",
       "\n",
       "// Listen for the clearing of the current output cell\n",
       "var outputEl = gd.closest('.output');\n",
       "if (outputEl) {{\n",
       "    x.observe(outputEl, {childList: true});\n",
       "}}\n",
       "\n",
       "                        })\n",
       "                };\n",
       "                });\n",
       "            </script>\n",
       "        </div>"
      ]
     },
     "metadata": {},
     "output_type": "display_data"
    }
   ],
   "source": [
    "fig = make_subplots(rows=2, cols=1)\n",
    "\n",
    "fig.add_trace(go.Scatter(x=VHGEX_equities_df_close_bqs.index,y=VHGEX_equities_df_close_bqs,name=\"Equities BQS Adj. Close\"),row=1,col=1)\n",
    "\n",
    "fig.add_trace(go.Scatter(x=equities_bqs_YOY.index,y=equities_bqs_YOY,name=\"Equities BQS YoY\"),row=2,col=1)\n",
    "\n",
    "fig.update_xaxes(title_text=\"Time\")\n",
    "fig.update_yaxes(title_text=\"USD\",row=1,col=1)\n",
    "fig.update_yaxes(title_text=\"% YoY\",row=2,col=1)"
   ]
  },
  {
   "cell_type": "markdown",
   "metadata": {},
   "source": [
    "#### Global Bonds"
   ]
  },
  {
   "cell_type": "code",
   "execution_count": 14,
   "metadata": {},
   "outputs": [
    {
     "data": {
      "application/vnd.plotly.v1+json": {
       "config": {
        "plotlyServerURL": "https://plot.ly"
       },
       "data": [
        {
         "name": "Bonds BQS Adj. Close",
         "type": "scatter",
         "x": [
          "1986-10-01T00:00:00",
          "1987-01-01T00:00:00",
          "1987-04-01T00:00:00",
          "1987-07-01T00:00:00",
          "1987-10-01T00:00:00",
          "1988-01-01T00:00:00",
          "1988-04-01T00:00:00",
          "1988-07-01T00:00:00",
          "1988-10-03T00:00:00",
          "1989-01-02T00:00:00",
          "1989-04-03T00:00:00",
          "1989-07-03T00:00:00",
          "1989-10-02T00:00:00",
          "1990-01-01T00:00:00",
          "1990-04-02T00:00:00",
          "1990-07-02T00:00:00",
          "1990-10-01T00:00:00",
          "1991-01-01T00:00:00",
          "1991-04-01T00:00:00",
          "1991-07-01T00:00:00",
          "1991-10-01T00:00:00",
          "1992-01-01T00:00:00",
          "1992-04-01T00:00:00",
          "1992-07-01T00:00:00",
          "1992-10-01T00:00:00",
          "1993-01-01T00:00:00",
          "1993-04-01T00:00:00",
          "1993-07-01T00:00:00",
          "1993-10-01T00:00:00",
          "1994-01-03T00:00:00",
          "1994-04-01T00:00:00",
          "1994-07-01T00:00:00",
          "1994-10-03T00:00:00",
          "1995-01-02T00:00:00",
          "1995-04-03T00:00:00",
          "1995-07-03T00:00:00",
          "1995-10-02T00:00:00",
          "1996-01-01T00:00:00",
          "1996-04-01T00:00:00",
          "1996-07-01T00:00:00",
          "1996-10-01T00:00:00",
          "1997-01-01T00:00:00",
          "1997-04-01T00:00:00",
          "1997-07-01T00:00:00",
          "1997-10-01T00:00:00",
          "1998-01-01T00:00:00",
          "1998-04-01T00:00:00",
          "1998-07-01T00:00:00",
          "1998-10-01T00:00:00",
          "1999-01-01T00:00:00",
          "1999-04-01T00:00:00",
          "1999-07-01T00:00:00",
          "1999-10-01T00:00:00",
          "2000-01-03T00:00:00",
          "2000-04-03T00:00:00",
          "2000-07-03T00:00:00",
          "2000-10-02T00:00:00",
          "2001-01-01T00:00:00",
          "2001-04-02T00:00:00",
          "2001-07-02T00:00:00",
          "2001-10-01T00:00:00",
          "2002-01-01T00:00:00",
          "2002-04-01T00:00:00",
          "2002-07-01T00:00:00",
          "2002-10-01T00:00:00",
          "2003-01-01T00:00:00",
          "2003-04-01T00:00:00",
          "2003-07-01T00:00:00",
          "2003-10-01T00:00:00",
          "2004-01-01T00:00:00",
          "2004-04-01T00:00:00",
          "2004-07-01T00:00:00",
          "2004-10-01T00:00:00",
          "2005-01-03T00:00:00",
          "2005-04-01T00:00:00",
          "2005-07-01T00:00:00",
          "2005-10-03T00:00:00",
          "2006-01-02T00:00:00",
          "2006-04-03T00:00:00",
          "2006-07-03T00:00:00",
          "2006-10-02T00:00:00",
          "2007-01-01T00:00:00",
          "2007-04-02T00:00:00",
          "2007-07-02T00:00:00",
          "2007-10-01T00:00:00",
          "2008-01-01T00:00:00",
          "2008-04-01T00:00:00",
          "2008-07-01T00:00:00",
          "2008-10-01T00:00:00",
          "2009-01-01T00:00:00",
          "2009-04-01T00:00:00",
          "2009-07-01T00:00:00",
          "2009-10-01T00:00:00",
          "2010-01-01T00:00:00",
          "2010-04-01T00:00:00",
          "2010-07-01T00:00:00",
          "2010-10-01T00:00:00",
          "2011-01-03T00:00:00",
          "2011-04-01T00:00:00",
          "2011-07-01T00:00:00",
          "2011-10-03T00:00:00",
          "2012-01-02T00:00:00",
          "2012-04-02T00:00:00",
          "2012-07-02T00:00:00",
          "2012-10-01T00:00:00",
          "2013-01-01T00:00:00",
          "2013-04-01T00:00:00",
          "2013-07-01T00:00:00",
          "2013-10-01T00:00:00",
          "2014-01-01T00:00:00",
          "2014-04-01T00:00:00",
          "2014-07-01T00:00:00",
          "2014-10-01T00:00:00",
          "2015-01-01T00:00:00",
          "2015-04-01T00:00:00",
          "2015-07-01T00:00:00",
          "2015-10-01T00:00:00",
          "2016-01-01T00:00:00",
          "2016-04-01T00:00:00",
          "2016-07-01T00:00:00",
          "2016-10-03T00:00:00",
          "2017-01-02T00:00:00",
          "2017-04-03T00:00:00",
          "2017-07-03T00:00:00",
          "2017-10-02T00:00:00",
          "2018-01-01T00:00:00",
          "2018-04-02T00:00:00",
          "2018-07-02T00:00:00",
          "2018-10-01T00:00:00",
          "2019-01-01T00:00:00",
          "2019-04-01T00:00:00",
          "2019-07-01T00:00:00",
          "2019-10-01T00:00:00",
          "2020-01-01T00:00:00",
          "2020-04-01T00:00:00",
          "2020-07-01T00:00:00",
          "2020-10-01T00:00:00",
          "2021-01-01T00:00:00"
         ],
         "xaxis": "x",
         "y": [
          1.733411,
          1.728213,
          1.7401659999999999,
          1.707243,
          1.6544349999999999,
          1.7563799999999998,
          1.797812,
          1.828236,
          1.8628919999999998,
          1.874481,
          1.898946,
          2.035081,
          2.058455,
          2.1364419999999997,
          2.115756,
          2.1914130000000003,
          2.218109,
          2.337443,
          2.383572,
          2.422334,
          2.5580580000000004,
          2.666771,
          2.649883,
          2.745705,
          2.870132,
          2.850348,
          2.954853,
          3.037867,
          3.126523,
          3.072337,
          2.9480009999999996,
          2.9679900000000004,
          2.977382,
          2.990984,
          3.155724,
          3.3351290000000002,
          3.4015690000000003,
          3.5449589999999995,
          3.488496,
          3.502764,
          3.5801830000000003,
          3.658121,
          3.6582160000000004,
          3.796588,
          3.929701,
          4.041161,
          4.096083,
          4.189181,
          4.379772,
          4.352472,
          4.327466,
          4.285556,
          4.301872,
          4.300951,
          4.428433,
          4.499041,
          4.623569,
          4.851838,
          4.96504,
          5.025187,
          5.230589,
          5.196297,
          5.214879,
          5.3675180000000005,
          5.551371,
          5.607033,
          5.7253739999999995,
          5.867230999999999,
          5.866144,
          5.848492,
          6.005219,
          5.884894,
          6.043347,
          6.109736,
          6.092484,
          6.238587,
          6.203784,
          6.263091999999999,
          6.205122,
          6.199857,
          6.445191,
          6.539478,
          6.6212789999999995,
          6.5917520000000005,
          6.77785,
          7.021623,
          7.099684,
          7.0427669999999996,
          7.049008000000001,
          7.299658,
          7.3684520000000004,
          7.49115,
          7.7887509999999995,
          7.779704,
          7.889533,
          8.177725,
          8.376142,
          8.210784,
          8.246657,
          8.423739999999999,
          8.799733999999999,
          8.793758,
          8.831264,
          9.036639,
          9.157913,
          9.089034,
          9.099082000000001,
          8.876061,
          8.905441999999999,
          8.904456,
          9.045110000000001,
          9.213099,
          9.294387,
          9.401063,
          9.55841,
          9.316730999999999,
          9.469789,
          9.411919000000001,
          9.690806,
          9.935267999999999,
          9.937941,
          9.624892,
          9.736514999999999,
          9.832113,
          9.919991,
          9.926501,
          9.811975,
          9.773977,
          9.765427,
          9.948916,
          10.19135,
          10.542283,
          10.815006,
          10.825982000000002,
          11.167568,
          11.477791999999999,
          11.555889,
          11.601859
         ],
         "yaxis": "y"
        },
        {
         "name": "Bonds BQS YoY",
         "type": "scatter",
         "x": [
          "1987-10-01T00:00:00",
          "1988-01-01T00:00:00",
          "1988-04-01T00:00:00",
          "1988-07-01T00:00:00",
          "1988-10-03T00:00:00",
          "1989-01-02T00:00:00",
          "1989-04-03T00:00:00",
          "1989-07-03T00:00:00",
          "1989-10-02T00:00:00",
          "1990-01-01T00:00:00",
          "1990-04-02T00:00:00",
          "1990-07-02T00:00:00",
          "1990-10-01T00:00:00",
          "1991-01-01T00:00:00",
          "1991-04-01T00:00:00",
          "1991-07-01T00:00:00",
          "1991-10-01T00:00:00",
          "1992-01-01T00:00:00",
          "1992-04-01T00:00:00",
          "1992-07-01T00:00:00",
          "1992-10-01T00:00:00",
          "1993-01-01T00:00:00",
          "1993-04-01T00:00:00",
          "1993-07-01T00:00:00",
          "1993-10-01T00:00:00",
          "1994-01-03T00:00:00",
          "1994-04-01T00:00:00",
          "1994-07-01T00:00:00",
          "1994-10-03T00:00:00",
          "1995-01-02T00:00:00",
          "1995-04-03T00:00:00",
          "1995-07-03T00:00:00",
          "1995-10-02T00:00:00",
          "1996-01-01T00:00:00",
          "1996-04-01T00:00:00",
          "1996-07-01T00:00:00",
          "1996-10-01T00:00:00",
          "1997-01-01T00:00:00",
          "1997-04-01T00:00:00",
          "1997-07-01T00:00:00",
          "1997-10-01T00:00:00",
          "1998-01-01T00:00:00",
          "1998-04-01T00:00:00",
          "1998-07-01T00:00:00",
          "1998-10-01T00:00:00",
          "1999-01-01T00:00:00",
          "1999-04-01T00:00:00",
          "1999-07-01T00:00:00",
          "1999-10-01T00:00:00",
          "2000-01-03T00:00:00",
          "2000-04-03T00:00:00",
          "2000-07-03T00:00:00",
          "2000-10-02T00:00:00",
          "2001-01-01T00:00:00",
          "2001-04-02T00:00:00",
          "2001-07-02T00:00:00",
          "2001-10-01T00:00:00",
          "2002-01-01T00:00:00",
          "2002-04-01T00:00:00",
          "2002-07-01T00:00:00",
          "2002-10-01T00:00:00",
          "2003-01-01T00:00:00",
          "2003-04-01T00:00:00",
          "2003-07-01T00:00:00",
          "2003-10-01T00:00:00",
          "2004-01-01T00:00:00",
          "2004-04-01T00:00:00",
          "2004-07-01T00:00:00",
          "2004-10-01T00:00:00",
          "2005-01-03T00:00:00",
          "2005-04-01T00:00:00",
          "2005-07-01T00:00:00",
          "2005-10-03T00:00:00",
          "2006-01-02T00:00:00",
          "2006-04-03T00:00:00",
          "2006-07-03T00:00:00",
          "2006-10-02T00:00:00",
          "2007-01-01T00:00:00",
          "2007-04-02T00:00:00",
          "2007-07-02T00:00:00",
          "2007-10-01T00:00:00",
          "2008-01-01T00:00:00",
          "2008-04-01T00:00:00",
          "2008-07-01T00:00:00",
          "2008-10-01T00:00:00",
          "2009-01-01T00:00:00",
          "2009-04-01T00:00:00",
          "2009-07-01T00:00:00",
          "2009-10-01T00:00:00",
          "2010-01-01T00:00:00",
          "2010-04-01T00:00:00",
          "2010-07-01T00:00:00",
          "2010-10-01T00:00:00",
          "2011-01-03T00:00:00",
          "2011-04-01T00:00:00",
          "2011-07-01T00:00:00",
          "2011-10-03T00:00:00",
          "2012-01-02T00:00:00",
          "2012-04-02T00:00:00",
          "2012-07-02T00:00:00",
          "2012-10-01T00:00:00",
          "2013-01-01T00:00:00",
          "2013-04-01T00:00:00",
          "2013-07-01T00:00:00",
          "2013-10-01T00:00:00",
          "2014-01-01T00:00:00",
          "2014-04-01T00:00:00",
          "2014-07-01T00:00:00",
          "2014-10-01T00:00:00",
          "2015-01-01T00:00:00",
          "2015-04-01T00:00:00",
          "2015-07-01T00:00:00",
          "2015-10-01T00:00:00",
          "2016-01-01T00:00:00",
          "2016-04-01T00:00:00",
          "2016-07-01T00:00:00",
          "2016-10-03T00:00:00",
          "2017-01-02T00:00:00",
          "2017-04-03T00:00:00",
          "2017-07-03T00:00:00",
          "2017-10-02T00:00:00",
          "2018-01-01T00:00:00",
          "2018-04-02T00:00:00",
          "2018-07-02T00:00:00",
          "2018-10-01T00:00:00",
          "2019-01-01T00:00:00",
          "2019-04-01T00:00:00",
          "2019-07-01T00:00:00",
          "2019-10-01T00:00:00",
          "2020-01-01T00:00:00",
          "2020-04-01T00:00:00",
          "2020-07-01T00:00:00",
          "2020-10-01T00:00:00",
          "2021-01-01T00:00:00"
         ],
         "xaxis": "x2",
         "y": [
          -0.04556103543821988,
          0.01629833822567006,
          0.03312672469178235,
          0.0708704033344989,
          0.12599890597092056,
          0.0672411437160525,
          0.056253935339178884,
          0.11313911333110171,
          0.10497817372128937,
          0.13975121647005206,
          0.1141738627638702,
          0.0768185639785346,
          0.0775601118314464,
          0.09408212345572697,
          0.12658170412845338,
          0.10537539021626685,
          0.15326072794438872,
          0.14089241962263888,
          0.11172769272335814,
          0.13349562859622166,
          0.12199645199600617,
          0.06883868168657914,
          0.11508810011611836,
          0.10640691552807002,
          0.08933073461429664,
          0.0778813674681127,
          -0.002318897082190019,
          -0.02300199449152962,
          -0.047701872015654456,
          -0.02647919157305989,
          0.07046232345240067,
          0.1236995407666468,
          0.14246979393305947,
          0.18521496604461918,
          0.10545028652695865,
          0.05026342309397913,
          0.05250929791516801,
          0.031921948885727636,
          0.048651338571120695,
          0.0838834703108744,
          0.09762573589115409,
          0.10470949430048915,
          0.1196941350647418,
          0.10340679578611112,
          0.1145305966026422,
          0.07703504017781015,
          0.05648884556294398,
          0.023005690133703904,
          -0.017786313990773905,
          -0.011837181261590946,
          0.023331668001550954,
          0.04981500650090687,
          0.07478070012310911,
          0.1280849281937877,
          0.12117311021754196,
          0.11694625587986418,
          0.13128818884286142,
          0.07099556910185378,
          0.05031963488713065,
          0.06812303701334899,
          0.06132808370147225,
          0.07904398074244012,
          0.09789201245129564,
          0.09309945490634575,
          0.05670184896667885,
          0.043063595309676295,
          0.048878029627409614,
          0.003010449051690678,
          0.03020774805391735,
          0.044668608591753145,
          0.014531526660393146,
          0.060101847204044656,
          0.02654770609730006,
          0.025100266198081256,
          0.018488025573805356,
          -0.0062081365539985445,
          0.038912863503951955,
          0.04412932142781889,
          0.06706669103363305,
          0.06321032888339206,
          0.05161352084057702,
          0.07372836180502484,
          0.07225265692625249,
          0.06842111171658138,
          0.04000649173410453,
          0.03959697067188017,
          0.03785633276072575,
          0.06366574387595114,
          0.10494285153315164,
          0.06576280696986081,
          0.07071783869936321,
          0.09165148208219032,
          0.07541530086146042,
          0.055410848536139756,
          0.04526554360061619,
          0.03008355013160724,
          0.05057125344818636,
          0.0710010152501881,
          0.07089018010570802,
          0.07275853718182201,
          0.040703389443362825,
          0.03357790832997676,
          0.03032612319142558,
          -0.01776965971529898,
          -0.02756861743499872,
          -0.020307768680367988,
          -0.005931587384309767,
          0.03797157320122069,
          0.04367497986062929,
          0.05577061641946468,
          0.05674889525942728,
          0.011248332401507799,
          0.018871820164148456,
          0.0011547630305210888,
          0.01385125768825568,
          0.06638991723599186,
          0.049436370757574455,
          0.022628010292055967,
          0.0047167387315356635,
          -0.0103827093541915,
          -0.00180620915338503,
          0.03133635161828319,
          0.007750206310985108,
          -0.0059128693903334195,
          -0.015581062523141287,
          0.002258096785564323,
          0.03866448905546527,
          0.07860730591037801,
          0.10747906875961477,
          0.08815694091698045,
          0.09578887978530815,
          0.0887387485234461,
          0.06850509375584268,
          0.07166804821955153
         ],
         "yaxis": "y2"
        }
       ],
       "layout": {
        "template": {
         "data": {
          "bar": [
           {
            "error_x": {
             "color": "#2a3f5f"
            },
            "error_y": {
             "color": "#2a3f5f"
            },
            "marker": {
             "line": {
              "color": "#E5ECF6",
              "width": 0.5
             }
            },
            "type": "bar"
           }
          ],
          "barpolar": [
           {
            "marker": {
             "line": {
              "color": "#E5ECF6",
              "width": 0.5
             }
            },
            "type": "barpolar"
           }
          ],
          "carpet": [
           {
            "aaxis": {
             "endlinecolor": "#2a3f5f",
             "gridcolor": "white",
             "linecolor": "white",
             "minorgridcolor": "white",
             "startlinecolor": "#2a3f5f"
            },
            "baxis": {
             "endlinecolor": "#2a3f5f",
             "gridcolor": "white",
             "linecolor": "white",
             "minorgridcolor": "white",
             "startlinecolor": "#2a3f5f"
            },
            "type": "carpet"
           }
          ],
          "choropleth": [
           {
            "colorbar": {
             "outlinewidth": 0,
             "ticks": ""
            },
            "type": "choropleth"
           }
          ],
          "contour": [
           {
            "colorbar": {
             "outlinewidth": 0,
             "ticks": ""
            },
            "colorscale": [
             [
              0,
              "#0d0887"
             ],
             [
              0.1111111111111111,
              "#46039f"
             ],
             [
              0.2222222222222222,
              "#7201a8"
             ],
             [
              0.3333333333333333,
              "#9c179e"
             ],
             [
              0.4444444444444444,
              "#bd3786"
             ],
             [
              0.5555555555555556,
              "#d8576b"
             ],
             [
              0.6666666666666666,
              "#ed7953"
             ],
             [
              0.7777777777777778,
              "#fb9f3a"
             ],
             [
              0.8888888888888888,
              "#fdca26"
             ],
             [
              1,
              "#f0f921"
             ]
            ],
            "type": "contour"
           }
          ],
          "contourcarpet": [
           {
            "colorbar": {
             "outlinewidth": 0,
             "ticks": ""
            },
            "type": "contourcarpet"
           }
          ],
          "heatmap": [
           {
            "colorbar": {
             "outlinewidth": 0,
             "ticks": ""
            },
            "colorscale": [
             [
              0,
              "#0d0887"
             ],
             [
              0.1111111111111111,
              "#46039f"
             ],
             [
              0.2222222222222222,
              "#7201a8"
             ],
             [
              0.3333333333333333,
              "#9c179e"
             ],
             [
              0.4444444444444444,
              "#bd3786"
             ],
             [
              0.5555555555555556,
              "#d8576b"
             ],
             [
              0.6666666666666666,
              "#ed7953"
             ],
             [
              0.7777777777777778,
              "#fb9f3a"
             ],
             [
              0.8888888888888888,
              "#fdca26"
             ],
             [
              1,
              "#f0f921"
             ]
            ],
            "type": "heatmap"
           }
          ],
          "heatmapgl": [
           {
            "colorbar": {
             "outlinewidth": 0,
             "ticks": ""
            },
            "colorscale": [
             [
              0,
              "#0d0887"
             ],
             [
              0.1111111111111111,
              "#46039f"
             ],
             [
              0.2222222222222222,
              "#7201a8"
             ],
             [
              0.3333333333333333,
              "#9c179e"
             ],
             [
              0.4444444444444444,
              "#bd3786"
             ],
             [
              0.5555555555555556,
              "#d8576b"
             ],
             [
              0.6666666666666666,
              "#ed7953"
             ],
             [
              0.7777777777777778,
              "#fb9f3a"
             ],
             [
              0.8888888888888888,
              "#fdca26"
             ],
             [
              1,
              "#f0f921"
             ]
            ],
            "type": "heatmapgl"
           }
          ],
          "histogram": [
           {
            "marker": {
             "colorbar": {
              "outlinewidth": 0,
              "ticks": ""
             }
            },
            "type": "histogram"
           }
          ],
          "histogram2d": [
           {
            "colorbar": {
             "outlinewidth": 0,
             "ticks": ""
            },
            "colorscale": [
             [
              0,
              "#0d0887"
             ],
             [
              0.1111111111111111,
              "#46039f"
             ],
             [
              0.2222222222222222,
              "#7201a8"
             ],
             [
              0.3333333333333333,
              "#9c179e"
             ],
             [
              0.4444444444444444,
              "#bd3786"
             ],
             [
              0.5555555555555556,
              "#d8576b"
             ],
             [
              0.6666666666666666,
              "#ed7953"
             ],
             [
              0.7777777777777778,
              "#fb9f3a"
             ],
             [
              0.8888888888888888,
              "#fdca26"
             ],
             [
              1,
              "#f0f921"
             ]
            ],
            "type": "histogram2d"
           }
          ],
          "histogram2dcontour": [
           {
            "colorbar": {
             "outlinewidth": 0,
             "ticks": ""
            },
            "colorscale": [
             [
              0,
              "#0d0887"
             ],
             [
              0.1111111111111111,
              "#46039f"
             ],
             [
              0.2222222222222222,
              "#7201a8"
             ],
             [
              0.3333333333333333,
              "#9c179e"
             ],
             [
              0.4444444444444444,
              "#bd3786"
             ],
             [
              0.5555555555555556,
              "#d8576b"
             ],
             [
              0.6666666666666666,
              "#ed7953"
             ],
             [
              0.7777777777777778,
              "#fb9f3a"
             ],
             [
              0.8888888888888888,
              "#fdca26"
             ],
             [
              1,
              "#f0f921"
             ]
            ],
            "type": "histogram2dcontour"
           }
          ],
          "mesh3d": [
           {
            "colorbar": {
             "outlinewidth": 0,
             "ticks": ""
            },
            "type": "mesh3d"
           }
          ],
          "parcoords": [
           {
            "line": {
             "colorbar": {
              "outlinewidth": 0,
              "ticks": ""
             }
            },
            "type": "parcoords"
           }
          ],
          "pie": [
           {
            "automargin": true,
            "type": "pie"
           }
          ],
          "scatter": [
           {
            "marker": {
             "colorbar": {
              "outlinewidth": 0,
              "ticks": ""
             }
            },
            "type": "scatter"
           }
          ],
          "scatter3d": [
           {
            "line": {
             "colorbar": {
              "outlinewidth": 0,
              "ticks": ""
             }
            },
            "marker": {
             "colorbar": {
              "outlinewidth": 0,
              "ticks": ""
             }
            },
            "type": "scatter3d"
           }
          ],
          "scattercarpet": [
           {
            "marker": {
             "colorbar": {
              "outlinewidth": 0,
              "ticks": ""
             }
            },
            "type": "scattercarpet"
           }
          ],
          "scattergeo": [
           {
            "marker": {
             "colorbar": {
              "outlinewidth": 0,
              "ticks": ""
             }
            },
            "type": "scattergeo"
           }
          ],
          "scattergl": [
           {
            "marker": {
             "colorbar": {
              "outlinewidth": 0,
              "ticks": ""
             }
            },
            "type": "scattergl"
           }
          ],
          "scattermapbox": [
           {
            "marker": {
             "colorbar": {
              "outlinewidth": 0,
              "ticks": ""
             }
            },
            "type": "scattermapbox"
           }
          ],
          "scatterpolar": [
           {
            "marker": {
             "colorbar": {
              "outlinewidth": 0,
              "ticks": ""
             }
            },
            "type": "scatterpolar"
           }
          ],
          "scatterpolargl": [
           {
            "marker": {
             "colorbar": {
              "outlinewidth": 0,
              "ticks": ""
             }
            },
            "type": "scatterpolargl"
           }
          ],
          "scatterternary": [
           {
            "marker": {
             "colorbar": {
              "outlinewidth": 0,
              "ticks": ""
             }
            },
            "type": "scatterternary"
           }
          ],
          "surface": [
           {
            "colorbar": {
             "outlinewidth": 0,
             "ticks": ""
            },
            "colorscale": [
             [
              0,
              "#0d0887"
             ],
             [
              0.1111111111111111,
              "#46039f"
             ],
             [
              0.2222222222222222,
              "#7201a8"
             ],
             [
              0.3333333333333333,
              "#9c179e"
             ],
             [
              0.4444444444444444,
              "#bd3786"
             ],
             [
              0.5555555555555556,
              "#d8576b"
             ],
             [
              0.6666666666666666,
              "#ed7953"
             ],
             [
              0.7777777777777778,
              "#fb9f3a"
             ],
             [
              0.8888888888888888,
              "#fdca26"
             ],
             [
              1,
              "#f0f921"
             ]
            ],
            "type": "surface"
           }
          ],
          "table": [
           {
            "cells": {
             "fill": {
              "color": "#EBF0F8"
             },
             "line": {
              "color": "white"
             }
            },
            "header": {
             "fill": {
              "color": "#C8D4E3"
             },
             "line": {
              "color": "white"
             }
            },
            "type": "table"
           }
          ]
         },
         "layout": {
          "annotationdefaults": {
           "arrowcolor": "#2a3f5f",
           "arrowhead": 0,
           "arrowwidth": 1
          },
          "coloraxis": {
           "colorbar": {
            "outlinewidth": 0,
            "ticks": ""
           }
          },
          "colorscale": {
           "diverging": [
            [
             0,
             "#8e0152"
            ],
            [
             0.1,
             "#c51b7d"
            ],
            [
             0.2,
             "#de77ae"
            ],
            [
             0.3,
             "#f1b6da"
            ],
            [
             0.4,
             "#fde0ef"
            ],
            [
             0.5,
             "#f7f7f7"
            ],
            [
             0.6,
             "#e6f5d0"
            ],
            [
             0.7,
             "#b8e186"
            ],
            [
             0.8,
             "#7fbc41"
            ],
            [
             0.9,
             "#4d9221"
            ],
            [
             1,
             "#276419"
            ]
           ],
           "sequential": [
            [
             0,
             "#0d0887"
            ],
            [
             0.1111111111111111,
             "#46039f"
            ],
            [
             0.2222222222222222,
             "#7201a8"
            ],
            [
             0.3333333333333333,
             "#9c179e"
            ],
            [
             0.4444444444444444,
             "#bd3786"
            ],
            [
             0.5555555555555556,
             "#d8576b"
            ],
            [
             0.6666666666666666,
             "#ed7953"
            ],
            [
             0.7777777777777778,
             "#fb9f3a"
            ],
            [
             0.8888888888888888,
             "#fdca26"
            ],
            [
             1,
             "#f0f921"
            ]
           ],
           "sequentialminus": [
            [
             0,
             "#0d0887"
            ],
            [
             0.1111111111111111,
             "#46039f"
            ],
            [
             0.2222222222222222,
             "#7201a8"
            ],
            [
             0.3333333333333333,
             "#9c179e"
            ],
            [
             0.4444444444444444,
             "#bd3786"
            ],
            [
             0.5555555555555556,
             "#d8576b"
            ],
            [
             0.6666666666666666,
             "#ed7953"
            ],
            [
             0.7777777777777778,
             "#fb9f3a"
            ],
            [
             0.8888888888888888,
             "#fdca26"
            ],
            [
             1,
             "#f0f921"
            ]
           ]
          },
          "colorway": [
           "#636efa",
           "#EF553B",
           "#00cc96",
           "#ab63fa",
           "#FFA15A",
           "#19d3f3",
           "#FF6692",
           "#B6E880",
           "#FF97FF",
           "#FECB52"
          ],
          "font": {
           "color": "#2a3f5f"
          },
          "geo": {
           "bgcolor": "white",
           "lakecolor": "white",
           "landcolor": "#E5ECF6",
           "showlakes": true,
           "showland": true,
           "subunitcolor": "white"
          },
          "hoverlabel": {
           "align": "left"
          },
          "hovermode": "closest",
          "mapbox": {
           "style": "light"
          },
          "paper_bgcolor": "white",
          "plot_bgcolor": "#E5ECF6",
          "polar": {
           "angularaxis": {
            "gridcolor": "white",
            "linecolor": "white",
            "ticks": ""
           },
           "bgcolor": "#E5ECF6",
           "radialaxis": {
            "gridcolor": "white",
            "linecolor": "white",
            "ticks": ""
           }
          },
          "scene": {
           "xaxis": {
            "backgroundcolor": "#E5ECF6",
            "gridcolor": "white",
            "gridwidth": 2,
            "linecolor": "white",
            "showbackground": true,
            "ticks": "",
            "zerolinecolor": "white"
           },
           "yaxis": {
            "backgroundcolor": "#E5ECF6",
            "gridcolor": "white",
            "gridwidth": 2,
            "linecolor": "white",
            "showbackground": true,
            "ticks": "",
            "zerolinecolor": "white"
           },
           "zaxis": {
            "backgroundcolor": "#E5ECF6",
            "gridcolor": "white",
            "gridwidth": 2,
            "linecolor": "white",
            "showbackground": true,
            "ticks": "",
            "zerolinecolor": "white"
           }
          },
          "shapedefaults": {
           "line": {
            "color": "#2a3f5f"
           }
          },
          "ternary": {
           "aaxis": {
            "gridcolor": "white",
            "linecolor": "white",
            "ticks": ""
           },
           "baxis": {
            "gridcolor": "white",
            "linecolor": "white",
            "ticks": ""
           },
           "bgcolor": "#E5ECF6",
           "caxis": {
            "gridcolor": "white",
            "linecolor": "white",
            "ticks": ""
           }
          },
          "title": {
           "x": 0.05
          },
          "xaxis": {
           "automargin": true,
           "gridcolor": "white",
           "linecolor": "white",
           "ticks": "",
           "title": {
            "standoff": 15
           },
           "zerolinecolor": "white",
           "zerolinewidth": 2
          },
          "yaxis": {
           "automargin": true,
           "gridcolor": "white",
           "linecolor": "white",
           "ticks": "",
           "title": {
            "standoff": 15
           },
           "zerolinecolor": "white",
           "zerolinewidth": 2
          }
         }
        },
        "xaxis": {
         "anchor": "y",
         "domain": [
          0,
          1
         ],
         "title": {
          "text": "Time"
         }
        },
        "xaxis2": {
         "anchor": "y2",
         "domain": [
          0,
          1
         ],
         "title": {
          "text": "Time"
         }
        },
        "yaxis": {
         "anchor": "x",
         "domain": [
          0.575,
          1
         ],
         "title": {
          "text": "USD"
         }
        },
        "yaxis2": {
         "anchor": "x2",
         "domain": [
          0,
          0.425
         ],
         "title": {
          "text": "% YoY"
         }
        }
       }
      },
      "text/html": [
       "<div>\n",
       "        \n",
       "        \n",
       "            <div id=\"13078593-007e-4211-9d03-33cacf939f4d\" class=\"plotly-graph-div\" style=\"height:525px; width:100%;\"></div>\n",
       "            <script type=\"text/javascript\">\n",
       "                require([\"plotly\"], function(Plotly) {\n",
       "                    window.PLOTLYENV=window.PLOTLYENV || {};\n",
       "                    \n",
       "                if (document.getElementById(\"13078593-007e-4211-9d03-33cacf939f4d\")) {\n",
       "                    Plotly.newPlot(\n",
       "                        '13078593-007e-4211-9d03-33cacf939f4d',\n",
       "                        [{\"name\": \"Bonds BQS Adj. Close\", \"type\": \"scatter\", \"x\": [\"1986-10-01T00:00:00\", \"1987-01-01T00:00:00\", \"1987-04-01T00:00:00\", \"1987-07-01T00:00:00\", \"1987-10-01T00:00:00\", \"1988-01-01T00:00:00\", \"1988-04-01T00:00:00\", \"1988-07-01T00:00:00\", \"1988-10-03T00:00:00\", \"1989-01-02T00:00:00\", \"1989-04-03T00:00:00\", \"1989-07-03T00:00:00\", \"1989-10-02T00:00:00\", \"1990-01-01T00:00:00\", \"1990-04-02T00:00:00\", \"1990-07-02T00:00:00\", \"1990-10-01T00:00:00\", \"1991-01-01T00:00:00\", \"1991-04-01T00:00:00\", \"1991-07-01T00:00:00\", \"1991-10-01T00:00:00\", \"1992-01-01T00:00:00\", \"1992-04-01T00:00:00\", \"1992-07-01T00:00:00\", \"1992-10-01T00:00:00\", \"1993-01-01T00:00:00\", \"1993-04-01T00:00:00\", \"1993-07-01T00:00:00\", \"1993-10-01T00:00:00\", \"1994-01-03T00:00:00\", \"1994-04-01T00:00:00\", \"1994-07-01T00:00:00\", \"1994-10-03T00:00:00\", \"1995-01-02T00:00:00\", \"1995-04-03T00:00:00\", \"1995-07-03T00:00:00\", \"1995-10-02T00:00:00\", \"1996-01-01T00:00:00\", \"1996-04-01T00:00:00\", \"1996-07-01T00:00:00\", \"1996-10-01T00:00:00\", \"1997-01-01T00:00:00\", \"1997-04-01T00:00:00\", \"1997-07-01T00:00:00\", \"1997-10-01T00:00:00\", \"1998-01-01T00:00:00\", \"1998-04-01T00:00:00\", \"1998-07-01T00:00:00\", \"1998-10-01T00:00:00\", \"1999-01-01T00:00:00\", \"1999-04-01T00:00:00\", \"1999-07-01T00:00:00\", \"1999-10-01T00:00:00\", \"2000-01-03T00:00:00\", \"2000-04-03T00:00:00\", \"2000-07-03T00:00:00\", \"2000-10-02T00:00:00\", \"2001-01-01T00:00:00\", \"2001-04-02T00:00:00\", \"2001-07-02T00:00:00\", \"2001-10-01T00:00:00\", \"2002-01-01T00:00:00\", \"2002-04-01T00:00:00\", \"2002-07-01T00:00:00\", \"2002-10-01T00:00:00\", \"2003-01-01T00:00:00\", \"2003-04-01T00:00:00\", \"2003-07-01T00:00:00\", \"2003-10-01T00:00:00\", \"2004-01-01T00:00:00\", \"2004-04-01T00:00:00\", \"2004-07-01T00:00:00\", \"2004-10-01T00:00:00\", \"2005-01-03T00:00:00\", \"2005-04-01T00:00:00\", \"2005-07-01T00:00:00\", \"2005-10-03T00:00:00\", \"2006-01-02T00:00:00\", \"2006-04-03T00:00:00\", \"2006-07-03T00:00:00\", \"2006-10-02T00:00:00\", \"2007-01-01T00:00:00\", \"2007-04-02T00:00:00\", \"2007-07-02T00:00:00\", \"2007-10-01T00:00:00\", \"2008-01-01T00:00:00\", \"2008-04-01T00:00:00\", \"2008-07-01T00:00:00\", \"2008-10-01T00:00:00\", \"2009-01-01T00:00:00\", \"2009-04-01T00:00:00\", \"2009-07-01T00:00:00\", \"2009-10-01T00:00:00\", \"2010-01-01T00:00:00\", \"2010-04-01T00:00:00\", \"2010-07-01T00:00:00\", \"2010-10-01T00:00:00\", \"2011-01-03T00:00:00\", \"2011-04-01T00:00:00\", \"2011-07-01T00:00:00\", \"2011-10-03T00:00:00\", \"2012-01-02T00:00:00\", \"2012-04-02T00:00:00\", \"2012-07-02T00:00:00\", \"2012-10-01T00:00:00\", \"2013-01-01T00:00:00\", \"2013-04-01T00:00:00\", \"2013-07-01T00:00:00\", \"2013-10-01T00:00:00\", \"2014-01-01T00:00:00\", \"2014-04-01T00:00:00\", \"2014-07-01T00:00:00\", \"2014-10-01T00:00:00\", \"2015-01-01T00:00:00\", \"2015-04-01T00:00:00\", \"2015-07-01T00:00:00\", \"2015-10-01T00:00:00\", \"2016-01-01T00:00:00\", \"2016-04-01T00:00:00\", \"2016-07-01T00:00:00\", \"2016-10-03T00:00:00\", \"2017-01-02T00:00:00\", \"2017-04-03T00:00:00\", \"2017-07-03T00:00:00\", \"2017-10-02T00:00:00\", \"2018-01-01T00:00:00\", \"2018-04-02T00:00:00\", \"2018-07-02T00:00:00\", \"2018-10-01T00:00:00\", \"2019-01-01T00:00:00\", \"2019-04-01T00:00:00\", \"2019-07-01T00:00:00\", \"2019-10-01T00:00:00\", \"2020-01-01T00:00:00\", \"2020-04-01T00:00:00\", \"2020-07-01T00:00:00\", \"2020-10-01T00:00:00\", \"2021-01-01T00:00:00\"], \"xaxis\": \"x\", \"y\": [1.733411, 1.728213, 1.7401659999999999, 1.707243, 1.6544349999999999, 1.7563799999999998, 1.797812, 1.828236, 1.8628919999999998, 1.874481, 1.898946, 2.035081, 2.058455, 2.1364419999999997, 2.115756, 2.1914130000000003, 2.218109, 2.337443, 2.383572, 2.422334, 2.5580580000000004, 2.666771, 2.649883, 2.745705, 2.870132, 2.850348, 2.954853, 3.037867, 3.126523, 3.072337, 2.9480009999999996, 2.9679900000000004, 2.977382, 2.990984, 3.155724, 3.3351290000000002, 3.4015690000000003, 3.5449589999999995, 3.488496, 3.502764, 3.5801830000000003, 3.658121, 3.6582160000000004, 3.796588, 3.929701, 4.041161, 4.096083, 4.189181, 4.379772, 4.352472, 4.327466, 4.285556, 4.301872, 4.300951, 4.428433, 4.499041, 4.623569, 4.851838, 4.96504, 5.025187, 5.230589, 5.196297, 5.214879, 5.3675180000000005, 5.551371, 5.607033, 5.7253739999999995, 5.867230999999999, 5.866144, 5.848492, 6.005219, 5.884894, 6.043347, 6.109736, 6.092484, 6.238587, 6.203784, 6.263091999999999, 6.205122, 6.199857, 6.445191, 6.539478, 6.6212789999999995, 6.5917520000000005, 6.77785, 7.021623, 7.099684, 7.0427669999999996, 7.049008000000001, 7.299658, 7.3684520000000004, 7.49115, 7.7887509999999995, 7.779704, 7.889533, 8.177725, 8.376142, 8.210784, 8.246657, 8.423739999999999, 8.799733999999999, 8.793758, 8.831264, 9.036639, 9.157913, 9.089034, 9.099082000000001, 8.876061, 8.905441999999999, 8.904456, 9.045110000000001, 9.213099, 9.294387, 9.401063, 9.55841, 9.316730999999999, 9.469789, 9.411919000000001, 9.690806, 9.935267999999999, 9.937941, 9.624892, 9.736514999999999, 9.832113, 9.919991, 9.926501, 9.811975, 9.773977, 9.765427, 9.948916, 10.19135, 10.542283, 10.815006, 10.825982000000002, 11.167568, 11.477791999999999, 11.555889, 11.601859], \"yaxis\": \"y\"}, {\"name\": \"Bonds BQS YoY\", \"type\": \"scatter\", \"x\": [\"1987-10-01T00:00:00\", \"1988-01-01T00:00:00\", \"1988-04-01T00:00:00\", \"1988-07-01T00:00:00\", \"1988-10-03T00:00:00\", \"1989-01-02T00:00:00\", \"1989-04-03T00:00:00\", \"1989-07-03T00:00:00\", \"1989-10-02T00:00:00\", \"1990-01-01T00:00:00\", \"1990-04-02T00:00:00\", \"1990-07-02T00:00:00\", \"1990-10-01T00:00:00\", \"1991-01-01T00:00:00\", \"1991-04-01T00:00:00\", \"1991-07-01T00:00:00\", \"1991-10-01T00:00:00\", \"1992-01-01T00:00:00\", \"1992-04-01T00:00:00\", \"1992-07-01T00:00:00\", \"1992-10-01T00:00:00\", \"1993-01-01T00:00:00\", \"1993-04-01T00:00:00\", \"1993-07-01T00:00:00\", \"1993-10-01T00:00:00\", \"1994-01-03T00:00:00\", \"1994-04-01T00:00:00\", \"1994-07-01T00:00:00\", \"1994-10-03T00:00:00\", \"1995-01-02T00:00:00\", \"1995-04-03T00:00:00\", \"1995-07-03T00:00:00\", \"1995-10-02T00:00:00\", \"1996-01-01T00:00:00\", \"1996-04-01T00:00:00\", \"1996-07-01T00:00:00\", \"1996-10-01T00:00:00\", \"1997-01-01T00:00:00\", \"1997-04-01T00:00:00\", \"1997-07-01T00:00:00\", \"1997-10-01T00:00:00\", \"1998-01-01T00:00:00\", \"1998-04-01T00:00:00\", \"1998-07-01T00:00:00\", \"1998-10-01T00:00:00\", \"1999-01-01T00:00:00\", \"1999-04-01T00:00:00\", \"1999-07-01T00:00:00\", \"1999-10-01T00:00:00\", \"2000-01-03T00:00:00\", \"2000-04-03T00:00:00\", \"2000-07-03T00:00:00\", \"2000-10-02T00:00:00\", \"2001-01-01T00:00:00\", \"2001-04-02T00:00:00\", \"2001-07-02T00:00:00\", \"2001-10-01T00:00:00\", \"2002-01-01T00:00:00\", \"2002-04-01T00:00:00\", \"2002-07-01T00:00:00\", \"2002-10-01T00:00:00\", \"2003-01-01T00:00:00\", \"2003-04-01T00:00:00\", \"2003-07-01T00:00:00\", \"2003-10-01T00:00:00\", \"2004-01-01T00:00:00\", \"2004-04-01T00:00:00\", \"2004-07-01T00:00:00\", \"2004-10-01T00:00:00\", \"2005-01-03T00:00:00\", \"2005-04-01T00:00:00\", \"2005-07-01T00:00:00\", \"2005-10-03T00:00:00\", \"2006-01-02T00:00:00\", \"2006-04-03T00:00:00\", \"2006-07-03T00:00:00\", \"2006-10-02T00:00:00\", \"2007-01-01T00:00:00\", \"2007-04-02T00:00:00\", \"2007-07-02T00:00:00\", \"2007-10-01T00:00:00\", \"2008-01-01T00:00:00\", \"2008-04-01T00:00:00\", \"2008-07-01T00:00:00\", \"2008-10-01T00:00:00\", \"2009-01-01T00:00:00\", \"2009-04-01T00:00:00\", \"2009-07-01T00:00:00\", \"2009-10-01T00:00:00\", \"2010-01-01T00:00:00\", \"2010-04-01T00:00:00\", \"2010-07-01T00:00:00\", \"2010-10-01T00:00:00\", \"2011-01-03T00:00:00\", \"2011-04-01T00:00:00\", \"2011-07-01T00:00:00\", \"2011-10-03T00:00:00\", \"2012-01-02T00:00:00\", \"2012-04-02T00:00:00\", \"2012-07-02T00:00:00\", \"2012-10-01T00:00:00\", \"2013-01-01T00:00:00\", \"2013-04-01T00:00:00\", \"2013-07-01T00:00:00\", \"2013-10-01T00:00:00\", \"2014-01-01T00:00:00\", \"2014-04-01T00:00:00\", \"2014-07-01T00:00:00\", \"2014-10-01T00:00:00\", \"2015-01-01T00:00:00\", \"2015-04-01T00:00:00\", \"2015-07-01T00:00:00\", \"2015-10-01T00:00:00\", \"2016-01-01T00:00:00\", \"2016-04-01T00:00:00\", \"2016-07-01T00:00:00\", \"2016-10-03T00:00:00\", \"2017-01-02T00:00:00\", \"2017-04-03T00:00:00\", \"2017-07-03T00:00:00\", \"2017-10-02T00:00:00\", \"2018-01-01T00:00:00\", \"2018-04-02T00:00:00\", \"2018-07-02T00:00:00\", \"2018-10-01T00:00:00\", \"2019-01-01T00:00:00\", \"2019-04-01T00:00:00\", \"2019-07-01T00:00:00\", \"2019-10-01T00:00:00\", \"2020-01-01T00:00:00\", \"2020-04-01T00:00:00\", \"2020-07-01T00:00:00\", \"2020-10-01T00:00:00\", \"2021-01-01T00:00:00\"], \"xaxis\": \"x2\", \"y\": [-0.04556103543821988, 0.01629833822567006, 0.03312672469178235, 0.0708704033344989, 0.12599890597092056, 0.0672411437160525, 0.056253935339178884, 0.11313911333110171, 0.10497817372128937, 0.13975121647005206, 0.1141738627638702, 0.0768185639785346, 0.0775601118314464, 0.09408212345572697, 0.12658170412845338, 0.10537539021626685, 0.15326072794438872, 0.14089241962263888, 0.11172769272335814, 0.13349562859622166, 0.12199645199600617, 0.06883868168657914, 0.11508810011611836, 0.10640691552807002, 0.08933073461429664, 0.0778813674681127, -0.002318897082190019, -0.02300199449152962, -0.047701872015654456, -0.02647919157305989, 0.07046232345240067, 0.1236995407666468, 0.14246979393305947, 0.18521496604461918, 0.10545028652695865, 0.05026342309397913, 0.05250929791516801, 0.031921948885727636, 0.048651338571120695, 0.0838834703108744, 0.09762573589115409, 0.10470949430048915, 0.1196941350647418, 0.10340679578611112, 0.1145305966026422, 0.07703504017781015, 0.05648884556294398, 0.023005690133703904, -0.017786313990773905, -0.011837181261590946, 0.023331668001550954, 0.04981500650090687, 0.07478070012310911, 0.1280849281937877, 0.12117311021754196, 0.11694625587986418, 0.13128818884286142, 0.07099556910185378, 0.05031963488713065, 0.06812303701334899, 0.06132808370147225, 0.07904398074244012, 0.09789201245129564, 0.09309945490634575, 0.05670184896667885, 0.043063595309676295, 0.048878029627409614, 0.003010449051690678, 0.03020774805391735, 0.044668608591753145, 0.014531526660393146, 0.060101847204044656, 0.02654770609730006, 0.025100266198081256, 0.018488025573805356, -0.0062081365539985445, 0.038912863503951955, 0.04412932142781889, 0.06706669103363305, 0.06321032888339206, 0.05161352084057702, 0.07372836180502484, 0.07225265692625249, 0.06842111171658138, 0.04000649173410453, 0.03959697067188017, 0.03785633276072575, 0.06366574387595114, 0.10494285153315164, 0.06576280696986081, 0.07071783869936321, 0.09165148208219032, 0.07541530086146042, 0.055410848536139756, 0.04526554360061619, 0.03008355013160724, 0.05057125344818636, 0.0710010152501881, 0.07089018010570802, 0.07275853718182201, 0.040703389443362825, 0.03357790832997676, 0.03032612319142558, -0.01776965971529898, -0.02756861743499872, -0.020307768680367988, -0.005931587384309767, 0.03797157320122069, 0.04367497986062929, 0.05577061641946468, 0.05674889525942728, 0.011248332401507799, 0.018871820164148456, 0.0011547630305210888, 0.01385125768825568, 0.06638991723599186, 0.049436370757574455, 0.022628010292055967, 0.0047167387315356635, -0.0103827093541915, -0.00180620915338503, 0.03133635161828319, 0.007750206310985108, -0.0059128693903334195, -0.015581062523141287, 0.002258096785564323, 0.03866448905546527, 0.07860730591037801, 0.10747906875961477, 0.08815694091698045, 0.09578887978530815, 0.0887387485234461, 0.06850509375584268, 0.07166804821955153], \"yaxis\": \"y2\"}],\n",
       "                        {\"template\": {\"data\": {\"bar\": [{\"error_x\": {\"color\": \"#2a3f5f\"}, \"error_y\": {\"color\": \"#2a3f5f\"}, \"marker\": {\"line\": {\"color\": \"#E5ECF6\", \"width\": 0.5}}, \"type\": \"bar\"}], \"barpolar\": [{\"marker\": {\"line\": {\"color\": \"#E5ECF6\", \"width\": 0.5}}, \"type\": \"barpolar\"}], \"carpet\": [{\"aaxis\": {\"endlinecolor\": \"#2a3f5f\", \"gridcolor\": \"white\", \"linecolor\": \"white\", \"minorgridcolor\": \"white\", \"startlinecolor\": \"#2a3f5f\"}, \"baxis\": {\"endlinecolor\": \"#2a3f5f\", \"gridcolor\": \"white\", \"linecolor\": \"white\", \"minorgridcolor\": \"white\", \"startlinecolor\": \"#2a3f5f\"}, \"type\": \"carpet\"}], \"choropleth\": [{\"colorbar\": {\"outlinewidth\": 0, \"ticks\": \"\"}, \"type\": \"choropleth\"}], \"contour\": [{\"colorbar\": {\"outlinewidth\": 0, \"ticks\": \"\"}, \"colorscale\": [[0.0, \"#0d0887\"], [0.1111111111111111, \"#46039f\"], [0.2222222222222222, \"#7201a8\"], [0.3333333333333333, \"#9c179e\"], [0.4444444444444444, \"#bd3786\"], [0.5555555555555556, \"#d8576b\"], [0.6666666666666666, \"#ed7953\"], [0.7777777777777778, \"#fb9f3a\"], [0.8888888888888888, \"#fdca26\"], [1.0, \"#f0f921\"]], \"type\": \"contour\"}], \"contourcarpet\": [{\"colorbar\": {\"outlinewidth\": 0, \"ticks\": \"\"}, \"type\": \"contourcarpet\"}], \"heatmap\": [{\"colorbar\": {\"outlinewidth\": 0, \"ticks\": \"\"}, \"colorscale\": [[0.0, \"#0d0887\"], [0.1111111111111111, \"#46039f\"], [0.2222222222222222, \"#7201a8\"], [0.3333333333333333, \"#9c179e\"], [0.4444444444444444, \"#bd3786\"], [0.5555555555555556, \"#d8576b\"], [0.6666666666666666, \"#ed7953\"], [0.7777777777777778, \"#fb9f3a\"], [0.8888888888888888, \"#fdca26\"], [1.0, \"#f0f921\"]], \"type\": \"heatmap\"}], \"heatmapgl\": [{\"colorbar\": {\"outlinewidth\": 0, \"ticks\": \"\"}, \"colorscale\": [[0.0, \"#0d0887\"], [0.1111111111111111, \"#46039f\"], [0.2222222222222222, \"#7201a8\"], [0.3333333333333333, \"#9c179e\"], [0.4444444444444444, \"#bd3786\"], [0.5555555555555556, \"#d8576b\"], [0.6666666666666666, \"#ed7953\"], [0.7777777777777778, \"#fb9f3a\"], [0.8888888888888888, \"#fdca26\"], [1.0, \"#f0f921\"]], \"type\": \"heatmapgl\"}], \"histogram\": [{\"marker\": {\"colorbar\": {\"outlinewidth\": 0, \"ticks\": \"\"}}, \"type\": \"histogram\"}], \"histogram2d\": [{\"colorbar\": {\"outlinewidth\": 0, \"ticks\": \"\"}, \"colorscale\": [[0.0, \"#0d0887\"], [0.1111111111111111, \"#46039f\"], [0.2222222222222222, \"#7201a8\"], [0.3333333333333333, \"#9c179e\"], [0.4444444444444444, \"#bd3786\"], [0.5555555555555556, \"#d8576b\"], [0.6666666666666666, \"#ed7953\"], [0.7777777777777778, \"#fb9f3a\"], [0.8888888888888888, \"#fdca26\"], [1.0, \"#f0f921\"]], \"type\": \"histogram2d\"}], \"histogram2dcontour\": [{\"colorbar\": {\"outlinewidth\": 0, \"ticks\": \"\"}, \"colorscale\": [[0.0, \"#0d0887\"], [0.1111111111111111, \"#46039f\"], [0.2222222222222222, \"#7201a8\"], [0.3333333333333333, \"#9c179e\"], [0.4444444444444444, \"#bd3786\"], [0.5555555555555556, \"#d8576b\"], [0.6666666666666666, \"#ed7953\"], [0.7777777777777778, \"#fb9f3a\"], [0.8888888888888888, \"#fdca26\"], [1.0, \"#f0f921\"]], \"type\": \"histogram2dcontour\"}], \"mesh3d\": [{\"colorbar\": {\"outlinewidth\": 0, \"ticks\": \"\"}, \"type\": \"mesh3d\"}], \"parcoords\": [{\"line\": {\"colorbar\": {\"outlinewidth\": 0, \"ticks\": \"\"}}, \"type\": \"parcoords\"}], \"pie\": [{\"automargin\": true, \"type\": \"pie\"}], \"scatter\": [{\"marker\": {\"colorbar\": {\"outlinewidth\": 0, \"ticks\": \"\"}}, \"type\": \"scatter\"}], \"scatter3d\": [{\"line\": {\"colorbar\": {\"outlinewidth\": 0, \"ticks\": \"\"}}, \"marker\": {\"colorbar\": {\"outlinewidth\": 0, \"ticks\": \"\"}}, \"type\": \"scatter3d\"}], \"scattercarpet\": [{\"marker\": {\"colorbar\": {\"outlinewidth\": 0, \"ticks\": \"\"}}, \"type\": \"scattercarpet\"}], \"scattergeo\": [{\"marker\": {\"colorbar\": {\"outlinewidth\": 0, \"ticks\": \"\"}}, \"type\": \"scattergeo\"}], \"scattergl\": [{\"marker\": {\"colorbar\": {\"outlinewidth\": 0, \"ticks\": \"\"}}, \"type\": \"scattergl\"}], \"scattermapbox\": [{\"marker\": {\"colorbar\": {\"outlinewidth\": 0, \"ticks\": \"\"}}, \"type\": \"scattermapbox\"}], \"scatterpolar\": [{\"marker\": {\"colorbar\": {\"outlinewidth\": 0, \"ticks\": \"\"}}, \"type\": \"scatterpolar\"}], \"scatterpolargl\": [{\"marker\": {\"colorbar\": {\"outlinewidth\": 0, \"ticks\": \"\"}}, \"type\": \"scatterpolargl\"}], \"scatterternary\": [{\"marker\": {\"colorbar\": {\"outlinewidth\": 0, \"ticks\": \"\"}}, \"type\": \"scatterternary\"}], \"surface\": [{\"colorbar\": {\"outlinewidth\": 0, \"ticks\": \"\"}, \"colorscale\": [[0.0, \"#0d0887\"], [0.1111111111111111, \"#46039f\"], [0.2222222222222222, \"#7201a8\"], [0.3333333333333333, \"#9c179e\"], [0.4444444444444444, \"#bd3786\"], [0.5555555555555556, \"#d8576b\"], [0.6666666666666666, \"#ed7953\"], [0.7777777777777778, \"#fb9f3a\"], [0.8888888888888888, \"#fdca26\"], [1.0, \"#f0f921\"]], \"type\": \"surface\"}], \"table\": [{\"cells\": {\"fill\": {\"color\": \"#EBF0F8\"}, \"line\": {\"color\": \"white\"}}, \"header\": {\"fill\": {\"color\": \"#C8D4E3\"}, \"line\": {\"color\": \"white\"}}, \"type\": \"table\"}]}, \"layout\": {\"annotationdefaults\": {\"arrowcolor\": \"#2a3f5f\", \"arrowhead\": 0, \"arrowwidth\": 1}, \"coloraxis\": {\"colorbar\": {\"outlinewidth\": 0, \"ticks\": \"\"}}, \"colorscale\": {\"diverging\": [[0, \"#8e0152\"], [0.1, \"#c51b7d\"], [0.2, \"#de77ae\"], [0.3, \"#f1b6da\"], [0.4, \"#fde0ef\"], [0.5, \"#f7f7f7\"], [0.6, \"#e6f5d0\"], [0.7, \"#b8e186\"], [0.8, \"#7fbc41\"], [0.9, \"#4d9221\"], [1, \"#276419\"]], \"sequential\": [[0.0, \"#0d0887\"], [0.1111111111111111, \"#46039f\"], [0.2222222222222222, \"#7201a8\"], [0.3333333333333333, \"#9c179e\"], [0.4444444444444444, \"#bd3786\"], [0.5555555555555556, \"#d8576b\"], [0.6666666666666666, \"#ed7953\"], [0.7777777777777778, \"#fb9f3a\"], [0.8888888888888888, \"#fdca26\"], [1.0, \"#f0f921\"]], \"sequentialminus\": [[0.0, \"#0d0887\"], [0.1111111111111111, \"#46039f\"], [0.2222222222222222, \"#7201a8\"], [0.3333333333333333, \"#9c179e\"], [0.4444444444444444, \"#bd3786\"], [0.5555555555555556, \"#d8576b\"], [0.6666666666666666, \"#ed7953\"], [0.7777777777777778, \"#fb9f3a\"], [0.8888888888888888, \"#fdca26\"], [1.0, \"#f0f921\"]]}, \"colorway\": [\"#636efa\", \"#EF553B\", \"#00cc96\", \"#ab63fa\", \"#FFA15A\", \"#19d3f3\", \"#FF6692\", \"#B6E880\", \"#FF97FF\", \"#FECB52\"], \"font\": {\"color\": \"#2a3f5f\"}, \"geo\": {\"bgcolor\": \"white\", \"lakecolor\": \"white\", \"landcolor\": \"#E5ECF6\", \"showlakes\": true, \"showland\": true, \"subunitcolor\": \"white\"}, \"hoverlabel\": {\"align\": \"left\"}, \"hovermode\": \"closest\", \"mapbox\": {\"style\": \"light\"}, \"paper_bgcolor\": \"white\", \"plot_bgcolor\": \"#E5ECF6\", \"polar\": {\"angularaxis\": {\"gridcolor\": \"white\", \"linecolor\": \"white\", \"ticks\": \"\"}, \"bgcolor\": \"#E5ECF6\", \"radialaxis\": {\"gridcolor\": \"white\", \"linecolor\": \"white\", \"ticks\": \"\"}}, \"scene\": {\"xaxis\": {\"backgroundcolor\": \"#E5ECF6\", \"gridcolor\": \"white\", \"gridwidth\": 2, \"linecolor\": \"white\", \"showbackground\": true, \"ticks\": \"\", \"zerolinecolor\": \"white\"}, \"yaxis\": {\"backgroundcolor\": \"#E5ECF6\", \"gridcolor\": \"white\", \"gridwidth\": 2, \"linecolor\": \"white\", \"showbackground\": true, \"ticks\": \"\", \"zerolinecolor\": \"white\"}, \"zaxis\": {\"backgroundcolor\": \"#E5ECF6\", \"gridcolor\": \"white\", \"gridwidth\": 2, \"linecolor\": \"white\", \"showbackground\": true, \"ticks\": \"\", \"zerolinecolor\": \"white\"}}, \"shapedefaults\": {\"line\": {\"color\": \"#2a3f5f\"}}, \"ternary\": {\"aaxis\": {\"gridcolor\": \"white\", \"linecolor\": \"white\", \"ticks\": \"\"}, \"baxis\": {\"gridcolor\": \"white\", \"linecolor\": \"white\", \"ticks\": \"\"}, \"bgcolor\": \"#E5ECF6\", \"caxis\": {\"gridcolor\": \"white\", \"linecolor\": \"white\", \"ticks\": \"\"}}, \"title\": {\"x\": 0.05}, \"xaxis\": {\"automargin\": true, \"gridcolor\": \"white\", \"linecolor\": \"white\", \"ticks\": \"\", \"title\": {\"standoff\": 15}, \"zerolinecolor\": \"white\", \"zerolinewidth\": 2}, \"yaxis\": {\"automargin\": true, \"gridcolor\": \"white\", \"linecolor\": \"white\", \"ticks\": \"\", \"title\": {\"standoff\": 15}, \"zerolinecolor\": \"white\", \"zerolinewidth\": 2}}}, \"xaxis\": {\"anchor\": \"y\", \"domain\": [0.0, 1.0], \"title\": {\"text\": \"Time\"}}, \"xaxis2\": {\"anchor\": \"y2\", \"domain\": [0.0, 1.0], \"title\": {\"text\": \"Time\"}}, \"yaxis\": {\"anchor\": \"x\", \"domain\": [0.575, 1.0], \"title\": {\"text\": \"USD\"}}, \"yaxis2\": {\"anchor\": \"x2\", \"domain\": [0.0, 0.425], \"title\": {\"text\": \"% YoY\"}}},\n",
       "                        {\"responsive\": true}\n",
       "                    ).then(function(){\n",
       "                            \n",
       "var gd = document.getElementById('13078593-007e-4211-9d03-33cacf939f4d');\n",
       "var x = new MutationObserver(function (mutations, observer) {{\n",
       "        var display = window.getComputedStyle(gd).display;\n",
       "        if (!display || display === 'none') {{\n",
       "            console.log([gd, 'removed!']);\n",
       "            Plotly.purge(gd);\n",
       "            observer.disconnect();\n",
       "        }}\n",
       "}});\n",
       "\n",
       "// Listen for the removal of the full notebook cells\n",
       "var notebookContainer = gd.closest('#notebook-container');\n",
       "if (notebookContainer) {{\n",
       "    x.observe(notebookContainer, {childList: true});\n",
       "}}\n",
       "\n",
       "// Listen for the clearing of the current output cell\n",
       "var outputEl = gd.closest('.output');\n",
       "if (outputEl) {{\n",
       "    x.observe(outputEl, {childList: true});\n",
       "}}\n",
       "\n",
       "                        })\n",
       "                };\n",
       "                });\n",
       "            </script>\n",
       "        </div>"
      ]
     },
     "metadata": {},
     "output_type": "display_data"
    }
   ],
   "source": [
    "fig = make_subplots(rows=2, cols=1)\n",
    "\n",
    "fig.add_trace(go.Scatter(x=VBMFX_bonds_df_close_bqs.index,y=VBMFX_bonds_df_close_bqs,name=\"Bonds BQS Adj. Close\"),row=1,col=1)\n",
    "\n",
    "fig.add_trace(go.Scatter(x=bonds_bqs_YOY.index,y=bonds_bqs_YOY,name=\"Bonds BQS YoY\"),row=2,col=1)\n",
    "\n",
    "fig.update_xaxes(title_text=\"Time\")\n",
    "fig.update_yaxes(title_text=\"USD\",row=1,col=1)\n",
    "fig.update_yaxes(title_text=\"% YoY\",row=2,col=1)"
   ]
  },
  {
   "cell_type": "markdown",
   "metadata": {},
   "source": [
    "### Calculate Difference between Global Bonds and Equities, and Plot Difference"
   ]
  },
  {
   "cell_type": "code",
   "execution_count": 32,
   "metadata": {},
   "outputs": [
    {
     "data": {
      "text/html": [
       "<div>\n",
       "<style scoped>\n",
       "    .dataframe tbody tr th:only-of-type {\n",
       "        vertical-align: middle;\n",
       "    }\n",
       "\n",
       "    .dataframe tbody tr th {\n",
       "        vertical-align: top;\n",
       "    }\n",
       "\n",
       "    .dataframe thead th {\n",
       "        text-align: right;\n",
       "    }\n",
       "</style>\n",
       "<table border=\"1\" class=\"dataframe\">\n",
       "  <thead>\n",
       "    <tr style=\"text-align: right;\">\n",
       "      <th></th>\n",
       "      <th>Equities YoY</th>\n",
       "      <th>Bonds YoY</th>\n",
       "      <th>GEGB Difference</th>\n",
       "    </tr>\n",
       "    <tr>\n",
       "      <th>Date</th>\n",
       "      <th></th>\n",
       "      <th></th>\n",
       "      <th></th>\n",
       "    </tr>\n",
       "  </thead>\n",
       "  <tbody>\n",
       "    <tr>\n",
       "      <th>1996-07-01</th>\n",
       "      <td>0.145137</td>\n",
       "      <td>0.050263</td>\n",
       "      <td>9.487377</td>\n",
       "    </tr>\n",
       "  </tbody>\n",
       "</table>\n",
       "</div>"
      ],
      "text/plain": [
       "            Equities YoY  Bonds YoY  GEGB Difference\n",
       "Date                                                \n",
       "1996-07-01      0.145137   0.050263         9.487377"
      ]
     },
     "execution_count": 32,
     "metadata": {},
     "output_type": "execute_result"
    }
   ],
   "source": [
    "gegb_dif = pd.concat([equities_bqs_YOY,bonds_bqs_YOY],axis=1).dropna()\n",
    "cols = [\"Equities YoY\",\"Bonds YoY\"]\n",
    "gegb_dif.columns = cols\n",
    "gegb_dif[\"GEGB Difference\"] = (gegb_dif[\"Equities YoY\"] - gegb_dif[\"Bonds YoY\"])*100\n",
    "gegb_dif.head(1)"
   ]
  },
  {
   "cell_type": "code",
   "execution_count": 33,
   "metadata": {},
   "outputs": [
    {
     "data": {
      "text/html": [
       "<div>\n",
       "<style scoped>\n",
       "    .dataframe tbody tr th:only-of-type {\n",
       "        vertical-align: middle;\n",
       "    }\n",
       "\n",
       "    .dataframe tbody tr th {\n",
       "        vertical-align: top;\n",
       "    }\n",
       "\n",
       "    .dataframe thead th {\n",
       "        text-align: right;\n",
       "    }\n",
       "</style>\n",
       "<table border=\"1\" class=\"dataframe\">\n",
       "  <thead>\n",
       "    <tr style=\"text-align: right;\">\n",
       "      <th></th>\n",
       "      <th>Equities YoY</th>\n",
       "      <th>Bonds YoY</th>\n",
       "      <th>GEGB Difference</th>\n",
       "    </tr>\n",
       "    <tr>\n",
       "      <th>Date</th>\n",
       "      <th></th>\n",
       "      <th></th>\n",
       "      <th></th>\n",
       "    </tr>\n",
       "  </thead>\n",
       "  <tbody>\n",
       "    <tr>\n",
       "      <th>2021-01-01</th>\n",
       "      <td>0.176507</td>\n",
       "      <td>0.071668</td>\n",
       "      <td>10.483847</td>\n",
       "    </tr>\n",
       "  </tbody>\n",
       "</table>\n",
       "</div>"
      ],
      "text/plain": [
       "            Equities YoY  Bonds YoY  GEGB Difference\n",
       "Date                                                \n",
       "2021-01-01      0.176507   0.071668        10.483847"
      ]
     },
     "execution_count": 33,
     "metadata": {},
     "output_type": "execute_result"
    }
   ],
   "source": [
    "gegb_dif.tail(1)"
   ]
  },
  {
   "cell_type": "code",
   "execution_count": 34,
   "metadata": {},
   "outputs": [
    {
     "data": {
      "application/vnd.plotly.v1+json": {
       "config": {
        "plotlyServerURL": "https://plot.ly"
       },
       "data": [
        {
         "name": "Equities - Bond, %YoY",
         "type": "scatter",
         "x": [
          "1996-07-01T00:00:00",
          "1996-10-01T00:00:00",
          "1997-01-01T00:00:00",
          "1997-04-01T00:00:00",
          "1997-07-01T00:00:00",
          "1997-10-01T00:00:00",
          "1998-01-01T00:00:00",
          "1998-04-01T00:00:00",
          "1998-07-01T00:00:00",
          "1998-10-01T00:00:00",
          "1999-01-01T00:00:00",
          "1999-04-01T00:00:00",
          "1999-07-01T00:00:00",
          "1999-10-01T00:00:00",
          "2000-01-03T00:00:00",
          "2000-04-03T00:00:00",
          "2000-07-03T00:00:00",
          "2000-10-02T00:00:00",
          "2001-01-01T00:00:00",
          "2001-04-02T00:00:00",
          "2001-07-02T00:00:00",
          "2001-10-01T00:00:00",
          "2002-01-01T00:00:00",
          "2002-04-01T00:00:00",
          "2002-07-01T00:00:00",
          "2002-10-01T00:00:00",
          "2003-01-01T00:00:00",
          "2003-04-01T00:00:00",
          "2003-07-01T00:00:00",
          "2003-10-01T00:00:00",
          "2004-01-01T00:00:00",
          "2004-04-01T00:00:00",
          "2004-07-01T00:00:00",
          "2004-10-01T00:00:00",
          "2005-01-03T00:00:00",
          "2005-04-01T00:00:00",
          "2005-07-01T00:00:00",
          "2005-10-03T00:00:00",
          "2006-01-02T00:00:00",
          "2006-04-03T00:00:00",
          "2006-07-03T00:00:00",
          "2006-10-02T00:00:00",
          "2007-01-01T00:00:00",
          "2007-04-02T00:00:00",
          "2007-07-02T00:00:00",
          "2007-10-01T00:00:00",
          "2008-01-01T00:00:00",
          "2008-04-01T00:00:00",
          "2008-07-01T00:00:00",
          "2008-10-01T00:00:00",
          "2009-01-01T00:00:00",
          "2009-04-01T00:00:00",
          "2009-07-01T00:00:00",
          "2009-10-01T00:00:00",
          "2010-01-01T00:00:00",
          "2010-04-01T00:00:00",
          "2010-07-01T00:00:00",
          "2010-10-01T00:00:00",
          "2011-01-03T00:00:00",
          "2011-04-01T00:00:00",
          "2011-07-01T00:00:00",
          "2011-10-03T00:00:00",
          "2012-01-02T00:00:00",
          "2012-04-02T00:00:00",
          "2012-07-02T00:00:00",
          "2012-10-01T00:00:00",
          "2013-01-01T00:00:00",
          "2013-04-01T00:00:00",
          "2013-07-01T00:00:00",
          "2013-10-01T00:00:00",
          "2014-01-01T00:00:00",
          "2014-04-01T00:00:00",
          "2014-07-01T00:00:00",
          "2014-10-01T00:00:00",
          "2015-01-01T00:00:00",
          "2015-04-01T00:00:00",
          "2015-07-01T00:00:00",
          "2015-10-01T00:00:00",
          "2016-01-01T00:00:00",
          "2016-04-01T00:00:00",
          "2016-07-01T00:00:00",
          "2016-10-03T00:00:00",
          "2017-01-02T00:00:00",
          "2017-04-03T00:00:00",
          "2017-07-03T00:00:00",
          "2017-10-02T00:00:00",
          "2018-01-01T00:00:00",
          "2018-04-02T00:00:00",
          "2018-07-02T00:00:00",
          "2018-10-01T00:00:00",
          "2019-01-01T00:00:00",
          "2019-04-01T00:00:00",
          "2019-07-01T00:00:00",
          "2019-10-01T00:00:00",
          "2020-01-01T00:00:00",
          "2020-04-01T00:00:00",
          "2020-07-01T00:00:00",
          "2020-10-01T00:00:00",
          "2021-01-01T00:00:00"
         ],
         "xaxis": "x",
         "y": [
          9.487376699871763,
          8.357223417831317,
          9.365335671358398,
          1.2809163225422138,
          6.768707723757594,
          8.699708134528606,
          -6.671854859813053,
          5.014173029099966,
          -7.131845987926533,
          -29.90734638299788,
          -4.915226284288843,
          -10.354085931648038,
          5.695730336681182,
          31.05771174974905,
          20.118460177315423,
          10.161446140735464,
          -2.7406207776485836,
          -6.7563907095469,
          -22.50665503499578,
          -25.034358165507765,
          -19.61163994028754,
          -31.003184298934983,
          -14.124547651788877,
          0.8042955607970637,
          -9.986347945927598,
          -11.887175744665669,
          -10.394422562235594,
          -24.625831321432713,
          -6.401150137971601,
          30.97684331022812,
          38.85093201841532,
          53.153908488233846,
          29.72942488129322,
          16.850996928352124,
          12.154643159019972,
          10.411975514959803,
          8.161269231979794,
          19.788518020845736,
          9.682331904359875,
          18.19714957380969,
          21.33064254097623,
          9.089327022771364,
          12.304911766330084,
          6.748797793684247,
          17.767130887281525,
          18.96169650603985,
          -3.3910011685901686,
          -14.820898103185643,
          -26.50116099284484,
          -41.336047616178284,
          -48.77816018041522,
          -51.966081081269934,
          -40.48094704338475,
          -14.868125324284753,
          26.447023453322682,
          51.46228714494021,
          3.9902281580266097,
          6.489212887233342,
          8.961073313359469,
          11.125273049234208,
          32.594414546911075,
          -15.937443588150824,
          -14.927544470781706,
          -8.292770656151138,
          -15.707557859069144,
          22.666194858787293,
          16.020256944940424,
          9.137541154900198,
          23.323266007545307,
          26.04670586613569,
          25.473192329052885,
          22.71075707974766,
          20.68768043369893,
          5.116409509432596,
          -0.2226756273003616,
          -0.47674635597623194,
          0.2958191011542377,
          -4.4735990084438075,
          -2.1196109742114833,
          -5.68032293015055,
          -10.379701685328557,
          6.863239425761103,
          7.218481980781566,
          14.308337596786313,
          22.289438332749146,
          21.655397612137573,
          25.183928668194632,
          16.62464117502971,
          12.660385114067573,
          11.411764264268475,
          -16.228633697002337,
          -5.3164963920680375,
          -7.2876421041546235,
          -16.233317004270887,
          16.567151817407535,
          -27.683801704178745,
          -8.182236495346352,
          6.110071471683476,
          10.483846715959588
         ],
         "yaxis": "y"
        }
       ],
       "layout": {
        "template": {
         "data": {
          "bar": [
           {
            "error_x": {
             "color": "#2a3f5f"
            },
            "error_y": {
             "color": "#2a3f5f"
            },
            "marker": {
             "line": {
              "color": "#E5ECF6",
              "width": 0.5
             }
            },
            "type": "bar"
           }
          ],
          "barpolar": [
           {
            "marker": {
             "line": {
              "color": "#E5ECF6",
              "width": 0.5
             }
            },
            "type": "barpolar"
           }
          ],
          "carpet": [
           {
            "aaxis": {
             "endlinecolor": "#2a3f5f",
             "gridcolor": "white",
             "linecolor": "white",
             "minorgridcolor": "white",
             "startlinecolor": "#2a3f5f"
            },
            "baxis": {
             "endlinecolor": "#2a3f5f",
             "gridcolor": "white",
             "linecolor": "white",
             "minorgridcolor": "white",
             "startlinecolor": "#2a3f5f"
            },
            "type": "carpet"
           }
          ],
          "choropleth": [
           {
            "colorbar": {
             "outlinewidth": 0,
             "ticks": ""
            },
            "type": "choropleth"
           }
          ],
          "contour": [
           {
            "colorbar": {
             "outlinewidth": 0,
             "ticks": ""
            },
            "colorscale": [
             [
              0,
              "#0d0887"
             ],
             [
              0.1111111111111111,
              "#46039f"
             ],
             [
              0.2222222222222222,
              "#7201a8"
             ],
             [
              0.3333333333333333,
              "#9c179e"
             ],
             [
              0.4444444444444444,
              "#bd3786"
             ],
             [
              0.5555555555555556,
              "#d8576b"
             ],
             [
              0.6666666666666666,
              "#ed7953"
             ],
             [
              0.7777777777777778,
              "#fb9f3a"
             ],
             [
              0.8888888888888888,
              "#fdca26"
             ],
             [
              1,
              "#f0f921"
             ]
            ],
            "type": "contour"
           }
          ],
          "contourcarpet": [
           {
            "colorbar": {
             "outlinewidth": 0,
             "ticks": ""
            },
            "type": "contourcarpet"
           }
          ],
          "heatmap": [
           {
            "colorbar": {
             "outlinewidth": 0,
             "ticks": ""
            },
            "colorscale": [
             [
              0,
              "#0d0887"
             ],
             [
              0.1111111111111111,
              "#46039f"
             ],
             [
              0.2222222222222222,
              "#7201a8"
             ],
             [
              0.3333333333333333,
              "#9c179e"
             ],
             [
              0.4444444444444444,
              "#bd3786"
             ],
             [
              0.5555555555555556,
              "#d8576b"
             ],
             [
              0.6666666666666666,
              "#ed7953"
             ],
             [
              0.7777777777777778,
              "#fb9f3a"
             ],
             [
              0.8888888888888888,
              "#fdca26"
             ],
             [
              1,
              "#f0f921"
             ]
            ],
            "type": "heatmap"
           }
          ],
          "heatmapgl": [
           {
            "colorbar": {
             "outlinewidth": 0,
             "ticks": ""
            },
            "colorscale": [
             [
              0,
              "#0d0887"
             ],
             [
              0.1111111111111111,
              "#46039f"
             ],
             [
              0.2222222222222222,
              "#7201a8"
             ],
             [
              0.3333333333333333,
              "#9c179e"
             ],
             [
              0.4444444444444444,
              "#bd3786"
             ],
             [
              0.5555555555555556,
              "#d8576b"
             ],
             [
              0.6666666666666666,
              "#ed7953"
             ],
             [
              0.7777777777777778,
              "#fb9f3a"
             ],
             [
              0.8888888888888888,
              "#fdca26"
             ],
             [
              1,
              "#f0f921"
             ]
            ],
            "type": "heatmapgl"
           }
          ],
          "histogram": [
           {
            "marker": {
             "colorbar": {
              "outlinewidth": 0,
              "ticks": ""
             }
            },
            "type": "histogram"
           }
          ],
          "histogram2d": [
           {
            "colorbar": {
             "outlinewidth": 0,
             "ticks": ""
            },
            "colorscale": [
             [
              0,
              "#0d0887"
             ],
             [
              0.1111111111111111,
              "#46039f"
             ],
             [
              0.2222222222222222,
              "#7201a8"
             ],
             [
              0.3333333333333333,
              "#9c179e"
             ],
             [
              0.4444444444444444,
              "#bd3786"
             ],
             [
              0.5555555555555556,
              "#d8576b"
             ],
             [
              0.6666666666666666,
              "#ed7953"
             ],
             [
              0.7777777777777778,
              "#fb9f3a"
             ],
             [
              0.8888888888888888,
              "#fdca26"
             ],
             [
              1,
              "#f0f921"
             ]
            ],
            "type": "histogram2d"
           }
          ],
          "histogram2dcontour": [
           {
            "colorbar": {
             "outlinewidth": 0,
             "ticks": ""
            },
            "colorscale": [
             [
              0,
              "#0d0887"
             ],
             [
              0.1111111111111111,
              "#46039f"
             ],
             [
              0.2222222222222222,
              "#7201a8"
             ],
             [
              0.3333333333333333,
              "#9c179e"
             ],
             [
              0.4444444444444444,
              "#bd3786"
             ],
             [
              0.5555555555555556,
              "#d8576b"
             ],
             [
              0.6666666666666666,
              "#ed7953"
             ],
             [
              0.7777777777777778,
              "#fb9f3a"
             ],
             [
              0.8888888888888888,
              "#fdca26"
             ],
             [
              1,
              "#f0f921"
             ]
            ],
            "type": "histogram2dcontour"
           }
          ],
          "mesh3d": [
           {
            "colorbar": {
             "outlinewidth": 0,
             "ticks": ""
            },
            "type": "mesh3d"
           }
          ],
          "parcoords": [
           {
            "line": {
             "colorbar": {
              "outlinewidth": 0,
              "ticks": ""
             }
            },
            "type": "parcoords"
           }
          ],
          "pie": [
           {
            "automargin": true,
            "type": "pie"
           }
          ],
          "scatter": [
           {
            "marker": {
             "colorbar": {
              "outlinewidth": 0,
              "ticks": ""
             }
            },
            "type": "scatter"
           }
          ],
          "scatter3d": [
           {
            "line": {
             "colorbar": {
              "outlinewidth": 0,
              "ticks": ""
             }
            },
            "marker": {
             "colorbar": {
              "outlinewidth": 0,
              "ticks": ""
             }
            },
            "type": "scatter3d"
           }
          ],
          "scattercarpet": [
           {
            "marker": {
             "colorbar": {
              "outlinewidth": 0,
              "ticks": ""
             }
            },
            "type": "scattercarpet"
           }
          ],
          "scattergeo": [
           {
            "marker": {
             "colorbar": {
              "outlinewidth": 0,
              "ticks": ""
             }
            },
            "type": "scattergeo"
           }
          ],
          "scattergl": [
           {
            "marker": {
             "colorbar": {
              "outlinewidth": 0,
              "ticks": ""
             }
            },
            "type": "scattergl"
           }
          ],
          "scattermapbox": [
           {
            "marker": {
             "colorbar": {
              "outlinewidth": 0,
              "ticks": ""
             }
            },
            "type": "scattermapbox"
           }
          ],
          "scatterpolar": [
           {
            "marker": {
             "colorbar": {
              "outlinewidth": 0,
              "ticks": ""
             }
            },
            "type": "scatterpolar"
           }
          ],
          "scatterpolargl": [
           {
            "marker": {
             "colorbar": {
              "outlinewidth": 0,
              "ticks": ""
             }
            },
            "type": "scatterpolargl"
           }
          ],
          "scatterternary": [
           {
            "marker": {
             "colorbar": {
              "outlinewidth": 0,
              "ticks": ""
             }
            },
            "type": "scatterternary"
           }
          ],
          "surface": [
           {
            "colorbar": {
             "outlinewidth": 0,
             "ticks": ""
            },
            "colorscale": [
             [
              0,
              "#0d0887"
             ],
             [
              0.1111111111111111,
              "#46039f"
             ],
             [
              0.2222222222222222,
              "#7201a8"
             ],
             [
              0.3333333333333333,
              "#9c179e"
             ],
             [
              0.4444444444444444,
              "#bd3786"
             ],
             [
              0.5555555555555556,
              "#d8576b"
             ],
             [
              0.6666666666666666,
              "#ed7953"
             ],
             [
              0.7777777777777778,
              "#fb9f3a"
             ],
             [
              0.8888888888888888,
              "#fdca26"
             ],
             [
              1,
              "#f0f921"
             ]
            ],
            "type": "surface"
           }
          ],
          "table": [
           {
            "cells": {
             "fill": {
              "color": "#EBF0F8"
             },
             "line": {
              "color": "white"
             }
            },
            "header": {
             "fill": {
              "color": "#C8D4E3"
             },
             "line": {
              "color": "white"
             }
            },
            "type": "table"
           }
          ]
         },
         "layout": {
          "annotationdefaults": {
           "arrowcolor": "#2a3f5f",
           "arrowhead": 0,
           "arrowwidth": 1
          },
          "coloraxis": {
           "colorbar": {
            "outlinewidth": 0,
            "ticks": ""
           }
          },
          "colorscale": {
           "diverging": [
            [
             0,
             "#8e0152"
            ],
            [
             0.1,
             "#c51b7d"
            ],
            [
             0.2,
             "#de77ae"
            ],
            [
             0.3,
             "#f1b6da"
            ],
            [
             0.4,
             "#fde0ef"
            ],
            [
             0.5,
             "#f7f7f7"
            ],
            [
             0.6,
             "#e6f5d0"
            ],
            [
             0.7,
             "#b8e186"
            ],
            [
             0.8,
             "#7fbc41"
            ],
            [
             0.9,
             "#4d9221"
            ],
            [
             1,
             "#276419"
            ]
           ],
           "sequential": [
            [
             0,
             "#0d0887"
            ],
            [
             0.1111111111111111,
             "#46039f"
            ],
            [
             0.2222222222222222,
             "#7201a8"
            ],
            [
             0.3333333333333333,
             "#9c179e"
            ],
            [
             0.4444444444444444,
             "#bd3786"
            ],
            [
             0.5555555555555556,
             "#d8576b"
            ],
            [
             0.6666666666666666,
             "#ed7953"
            ],
            [
             0.7777777777777778,
             "#fb9f3a"
            ],
            [
             0.8888888888888888,
             "#fdca26"
            ],
            [
             1,
             "#f0f921"
            ]
           ],
           "sequentialminus": [
            [
             0,
             "#0d0887"
            ],
            [
             0.1111111111111111,
             "#46039f"
            ],
            [
             0.2222222222222222,
             "#7201a8"
            ],
            [
             0.3333333333333333,
             "#9c179e"
            ],
            [
             0.4444444444444444,
             "#bd3786"
            ],
            [
             0.5555555555555556,
             "#d8576b"
            ],
            [
             0.6666666666666666,
             "#ed7953"
            ],
            [
             0.7777777777777778,
             "#fb9f3a"
            ],
            [
             0.8888888888888888,
             "#fdca26"
            ],
            [
             1,
             "#f0f921"
            ]
           ]
          },
          "colorway": [
           "#636efa",
           "#EF553B",
           "#00cc96",
           "#ab63fa",
           "#FFA15A",
           "#19d3f3",
           "#FF6692",
           "#B6E880",
           "#FF97FF",
           "#FECB52"
          ],
          "font": {
           "color": "#2a3f5f"
          },
          "geo": {
           "bgcolor": "white",
           "lakecolor": "white",
           "landcolor": "#E5ECF6",
           "showlakes": true,
           "showland": true,
           "subunitcolor": "white"
          },
          "hoverlabel": {
           "align": "left"
          },
          "hovermode": "closest",
          "mapbox": {
           "style": "light"
          },
          "paper_bgcolor": "white",
          "plot_bgcolor": "#E5ECF6",
          "polar": {
           "angularaxis": {
            "gridcolor": "white",
            "linecolor": "white",
            "ticks": ""
           },
           "bgcolor": "#E5ECF6",
           "radialaxis": {
            "gridcolor": "white",
            "linecolor": "white",
            "ticks": ""
           }
          },
          "scene": {
           "xaxis": {
            "backgroundcolor": "#E5ECF6",
            "gridcolor": "white",
            "gridwidth": 2,
            "linecolor": "white",
            "showbackground": true,
            "ticks": "",
            "zerolinecolor": "white"
           },
           "yaxis": {
            "backgroundcolor": "#E5ECF6",
            "gridcolor": "white",
            "gridwidth": 2,
            "linecolor": "white",
            "showbackground": true,
            "ticks": "",
            "zerolinecolor": "white"
           },
           "zaxis": {
            "backgroundcolor": "#E5ECF6",
            "gridcolor": "white",
            "gridwidth": 2,
            "linecolor": "white",
            "showbackground": true,
            "ticks": "",
            "zerolinecolor": "white"
           }
          },
          "shapedefaults": {
           "line": {
            "color": "#2a3f5f"
           }
          },
          "ternary": {
           "aaxis": {
            "gridcolor": "white",
            "linecolor": "white",
            "ticks": ""
           },
           "baxis": {
            "gridcolor": "white",
            "linecolor": "white",
            "ticks": ""
           },
           "bgcolor": "#E5ECF6",
           "caxis": {
            "gridcolor": "white",
            "linecolor": "white",
            "ticks": ""
           }
          },
          "title": {
           "x": 0.05
          },
          "xaxis": {
           "automargin": true,
           "gridcolor": "white",
           "linecolor": "white",
           "ticks": "",
           "title": {
            "standoff": 15
           },
           "zerolinecolor": "white",
           "zerolinewidth": 2
          },
          "yaxis": {
           "automargin": true,
           "gridcolor": "white",
           "linecolor": "white",
           "ticks": "",
           "title": {
            "standoff": 15
           },
           "zerolinecolor": "white",
           "zerolinewidth": 2
          }
         }
        },
        "xaxis": {
         "anchor": "y",
         "domain": [
          0,
          1
         ],
         "title": {
          "text": "Time"
         }
        },
        "yaxis": {
         "anchor": "x",
         "domain": [
          0,
          1
         ],
         "title": {
          "text": "% YoY"
         }
        }
       }
      },
      "text/html": [
       "<div>\n",
       "        \n",
       "        \n",
       "            <div id=\"4637e49f-d444-4167-be28-70f470c53ee6\" class=\"plotly-graph-div\" style=\"height:525px; width:100%;\"></div>\n",
       "            <script type=\"text/javascript\">\n",
       "                require([\"plotly\"], function(Plotly) {\n",
       "                    window.PLOTLYENV=window.PLOTLYENV || {};\n",
       "                    \n",
       "                if (document.getElementById(\"4637e49f-d444-4167-be28-70f470c53ee6\")) {\n",
       "                    Plotly.newPlot(\n",
       "                        '4637e49f-d444-4167-be28-70f470c53ee6',\n",
       "                        [{\"name\": \"Equities - Bond, %YoY\", \"type\": \"scatter\", \"x\": [\"1996-07-01T00:00:00\", \"1996-10-01T00:00:00\", \"1997-01-01T00:00:00\", \"1997-04-01T00:00:00\", \"1997-07-01T00:00:00\", \"1997-10-01T00:00:00\", \"1998-01-01T00:00:00\", \"1998-04-01T00:00:00\", \"1998-07-01T00:00:00\", \"1998-10-01T00:00:00\", \"1999-01-01T00:00:00\", \"1999-04-01T00:00:00\", \"1999-07-01T00:00:00\", \"1999-10-01T00:00:00\", \"2000-01-03T00:00:00\", \"2000-04-03T00:00:00\", \"2000-07-03T00:00:00\", \"2000-10-02T00:00:00\", \"2001-01-01T00:00:00\", \"2001-04-02T00:00:00\", \"2001-07-02T00:00:00\", \"2001-10-01T00:00:00\", \"2002-01-01T00:00:00\", \"2002-04-01T00:00:00\", \"2002-07-01T00:00:00\", \"2002-10-01T00:00:00\", \"2003-01-01T00:00:00\", \"2003-04-01T00:00:00\", \"2003-07-01T00:00:00\", \"2003-10-01T00:00:00\", \"2004-01-01T00:00:00\", \"2004-04-01T00:00:00\", \"2004-07-01T00:00:00\", \"2004-10-01T00:00:00\", \"2005-01-03T00:00:00\", \"2005-04-01T00:00:00\", \"2005-07-01T00:00:00\", \"2005-10-03T00:00:00\", \"2006-01-02T00:00:00\", \"2006-04-03T00:00:00\", \"2006-07-03T00:00:00\", \"2006-10-02T00:00:00\", \"2007-01-01T00:00:00\", \"2007-04-02T00:00:00\", \"2007-07-02T00:00:00\", \"2007-10-01T00:00:00\", \"2008-01-01T00:00:00\", \"2008-04-01T00:00:00\", \"2008-07-01T00:00:00\", \"2008-10-01T00:00:00\", \"2009-01-01T00:00:00\", \"2009-04-01T00:00:00\", \"2009-07-01T00:00:00\", \"2009-10-01T00:00:00\", \"2010-01-01T00:00:00\", \"2010-04-01T00:00:00\", \"2010-07-01T00:00:00\", \"2010-10-01T00:00:00\", \"2011-01-03T00:00:00\", \"2011-04-01T00:00:00\", \"2011-07-01T00:00:00\", \"2011-10-03T00:00:00\", \"2012-01-02T00:00:00\", \"2012-04-02T00:00:00\", \"2012-07-02T00:00:00\", \"2012-10-01T00:00:00\", \"2013-01-01T00:00:00\", \"2013-04-01T00:00:00\", \"2013-07-01T00:00:00\", \"2013-10-01T00:00:00\", \"2014-01-01T00:00:00\", \"2014-04-01T00:00:00\", \"2014-07-01T00:00:00\", \"2014-10-01T00:00:00\", \"2015-01-01T00:00:00\", \"2015-04-01T00:00:00\", \"2015-07-01T00:00:00\", \"2015-10-01T00:00:00\", \"2016-01-01T00:00:00\", \"2016-04-01T00:00:00\", \"2016-07-01T00:00:00\", \"2016-10-03T00:00:00\", \"2017-01-02T00:00:00\", \"2017-04-03T00:00:00\", \"2017-07-03T00:00:00\", \"2017-10-02T00:00:00\", \"2018-01-01T00:00:00\", \"2018-04-02T00:00:00\", \"2018-07-02T00:00:00\", \"2018-10-01T00:00:00\", \"2019-01-01T00:00:00\", \"2019-04-01T00:00:00\", \"2019-07-01T00:00:00\", \"2019-10-01T00:00:00\", \"2020-01-01T00:00:00\", \"2020-04-01T00:00:00\", \"2020-07-01T00:00:00\", \"2020-10-01T00:00:00\", \"2021-01-01T00:00:00\"], \"xaxis\": \"x\", \"y\": [9.487376699871763, 8.357223417831317, 9.365335671358398, 1.2809163225422138, 6.768707723757594, 8.699708134528606, -6.671854859813053, 5.014173029099966, -7.131845987926533, -29.90734638299788, -4.915226284288843, -10.354085931648038, 5.695730336681182, 31.05771174974905, 20.118460177315423, 10.161446140735464, -2.7406207776485836, -6.7563907095469, -22.50665503499578, -25.034358165507765, -19.61163994028754, -31.003184298934983, -14.124547651788877, 0.8042955607970637, -9.986347945927598, -11.887175744665669, -10.394422562235594, -24.625831321432713, -6.401150137971601, 30.97684331022812, 38.85093201841532, 53.153908488233846, 29.72942488129322, 16.850996928352124, 12.154643159019972, 10.411975514959803, 8.161269231979794, 19.788518020845736, 9.682331904359875, 18.19714957380969, 21.33064254097623, 9.089327022771364, 12.304911766330084, 6.748797793684247, 17.767130887281525, 18.96169650603985, -3.3910011685901686, -14.820898103185643, -26.50116099284484, -41.336047616178284, -48.77816018041522, -51.966081081269934, -40.48094704338475, -14.868125324284753, 26.447023453322682, 51.46228714494021, 3.9902281580266097, 6.489212887233342, 8.961073313359469, 11.125273049234208, 32.594414546911075, -15.937443588150824, -14.927544470781706, -8.292770656151138, -15.707557859069144, 22.666194858787293, 16.020256944940424, 9.137541154900198, 23.323266007545307, 26.04670586613569, 25.473192329052885, 22.71075707974766, 20.68768043369893, 5.116409509432596, -0.2226756273003616, -0.47674635597623194, 0.2958191011542377, -4.4735990084438075, -2.1196109742114833, -5.68032293015055, -10.379701685328557, 6.863239425761103, 7.218481980781566, 14.308337596786313, 22.289438332749146, 21.655397612137573, 25.183928668194632, 16.62464117502971, 12.660385114067573, 11.411764264268475, -16.228633697002337, -5.3164963920680375, -7.2876421041546235, -16.233317004270887, 16.567151817407535, -27.683801704178745, -8.182236495346352, 6.110071471683476, 10.483846715959588], \"yaxis\": \"y\"}],\n",
       "                        {\"template\": {\"data\": {\"bar\": [{\"error_x\": {\"color\": \"#2a3f5f\"}, \"error_y\": {\"color\": \"#2a3f5f\"}, \"marker\": {\"line\": {\"color\": \"#E5ECF6\", \"width\": 0.5}}, \"type\": \"bar\"}], \"barpolar\": [{\"marker\": {\"line\": {\"color\": \"#E5ECF6\", \"width\": 0.5}}, \"type\": \"barpolar\"}], \"carpet\": [{\"aaxis\": {\"endlinecolor\": \"#2a3f5f\", \"gridcolor\": \"white\", \"linecolor\": \"white\", \"minorgridcolor\": \"white\", \"startlinecolor\": \"#2a3f5f\"}, \"baxis\": {\"endlinecolor\": \"#2a3f5f\", \"gridcolor\": \"white\", \"linecolor\": \"white\", \"minorgridcolor\": \"white\", \"startlinecolor\": \"#2a3f5f\"}, \"type\": \"carpet\"}], \"choropleth\": [{\"colorbar\": {\"outlinewidth\": 0, \"ticks\": \"\"}, \"type\": \"choropleth\"}], \"contour\": [{\"colorbar\": {\"outlinewidth\": 0, \"ticks\": \"\"}, \"colorscale\": [[0.0, \"#0d0887\"], [0.1111111111111111, \"#46039f\"], [0.2222222222222222, \"#7201a8\"], [0.3333333333333333, \"#9c179e\"], [0.4444444444444444, \"#bd3786\"], [0.5555555555555556, \"#d8576b\"], [0.6666666666666666, \"#ed7953\"], [0.7777777777777778, \"#fb9f3a\"], [0.8888888888888888, \"#fdca26\"], [1.0, \"#f0f921\"]], \"type\": \"contour\"}], \"contourcarpet\": [{\"colorbar\": {\"outlinewidth\": 0, \"ticks\": \"\"}, \"type\": \"contourcarpet\"}], \"heatmap\": [{\"colorbar\": {\"outlinewidth\": 0, \"ticks\": \"\"}, \"colorscale\": [[0.0, \"#0d0887\"], [0.1111111111111111, \"#46039f\"], [0.2222222222222222, \"#7201a8\"], [0.3333333333333333, \"#9c179e\"], [0.4444444444444444, \"#bd3786\"], [0.5555555555555556, \"#d8576b\"], [0.6666666666666666, \"#ed7953\"], [0.7777777777777778, \"#fb9f3a\"], [0.8888888888888888, \"#fdca26\"], [1.0, \"#f0f921\"]], \"type\": \"heatmap\"}], \"heatmapgl\": [{\"colorbar\": {\"outlinewidth\": 0, \"ticks\": \"\"}, \"colorscale\": [[0.0, \"#0d0887\"], [0.1111111111111111, \"#46039f\"], [0.2222222222222222, \"#7201a8\"], [0.3333333333333333, \"#9c179e\"], [0.4444444444444444, \"#bd3786\"], [0.5555555555555556, \"#d8576b\"], [0.6666666666666666, \"#ed7953\"], [0.7777777777777778, \"#fb9f3a\"], [0.8888888888888888, \"#fdca26\"], [1.0, \"#f0f921\"]], \"type\": \"heatmapgl\"}], \"histogram\": [{\"marker\": {\"colorbar\": {\"outlinewidth\": 0, \"ticks\": \"\"}}, \"type\": \"histogram\"}], \"histogram2d\": [{\"colorbar\": {\"outlinewidth\": 0, \"ticks\": \"\"}, \"colorscale\": [[0.0, \"#0d0887\"], [0.1111111111111111, \"#46039f\"], [0.2222222222222222, \"#7201a8\"], [0.3333333333333333, \"#9c179e\"], [0.4444444444444444, \"#bd3786\"], [0.5555555555555556, \"#d8576b\"], [0.6666666666666666, \"#ed7953\"], [0.7777777777777778, \"#fb9f3a\"], [0.8888888888888888, \"#fdca26\"], [1.0, \"#f0f921\"]], \"type\": \"histogram2d\"}], \"histogram2dcontour\": [{\"colorbar\": {\"outlinewidth\": 0, \"ticks\": \"\"}, \"colorscale\": [[0.0, \"#0d0887\"], [0.1111111111111111, \"#46039f\"], [0.2222222222222222, \"#7201a8\"], [0.3333333333333333, \"#9c179e\"], [0.4444444444444444, \"#bd3786\"], [0.5555555555555556, \"#d8576b\"], [0.6666666666666666, \"#ed7953\"], [0.7777777777777778, \"#fb9f3a\"], [0.8888888888888888, \"#fdca26\"], [1.0, \"#f0f921\"]], \"type\": \"histogram2dcontour\"}], \"mesh3d\": [{\"colorbar\": {\"outlinewidth\": 0, \"ticks\": \"\"}, \"type\": \"mesh3d\"}], \"parcoords\": [{\"line\": {\"colorbar\": {\"outlinewidth\": 0, \"ticks\": \"\"}}, \"type\": \"parcoords\"}], \"pie\": [{\"automargin\": true, \"type\": \"pie\"}], \"scatter\": [{\"marker\": {\"colorbar\": {\"outlinewidth\": 0, \"ticks\": \"\"}}, \"type\": \"scatter\"}], \"scatter3d\": [{\"line\": {\"colorbar\": {\"outlinewidth\": 0, \"ticks\": \"\"}}, \"marker\": {\"colorbar\": {\"outlinewidth\": 0, \"ticks\": \"\"}}, \"type\": \"scatter3d\"}], \"scattercarpet\": [{\"marker\": {\"colorbar\": {\"outlinewidth\": 0, \"ticks\": \"\"}}, \"type\": \"scattercarpet\"}], \"scattergeo\": [{\"marker\": {\"colorbar\": {\"outlinewidth\": 0, \"ticks\": \"\"}}, \"type\": \"scattergeo\"}], \"scattergl\": [{\"marker\": {\"colorbar\": {\"outlinewidth\": 0, \"ticks\": \"\"}}, \"type\": \"scattergl\"}], \"scattermapbox\": [{\"marker\": {\"colorbar\": {\"outlinewidth\": 0, \"ticks\": \"\"}}, \"type\": \"scattermapbox\"}], \"scatterpolar\": [{\"marker\": {\"colorbar\": {\"outlinewidth\": 0, \"ticks\": \"\"}}, \"type\": \"scatterpolar\"}], \"scatterpolargl\": [{\"marker\": {\"colorbar\": {\"outlinewidth\": 0, \"ticks\": \"\"}}, \"type\": \"scatterpolargl\"}], \"scatterternary\": [{\"marker\": {\"colorbar\": {\"outlinewidth\": 0, \"ticks\": \"\"}}, \"type\": \"scatterternary\"}], \"surface\": [{\"colorbar\": {\"outlinewidth\": 0, \"ticks\": \"\"}, \"colorscale\": [[0.0, \"#0d0887\"], [0.1111111111111111, \"#46039f\"], [0.2222222222222222, \"#7201a8\"], [0.3333333333333333, \"#9c179e\"], [0.4444444444444444, \"#bd3786\"], [0.5555555555555556, \"#d8576b\"], [0.6666666666666666, \"#ed7953\"], [0.7777777777777778, \"#fb9f3a\"], [0.8888888888888888, \"#fdca26\"], [1.0, \"#f0f921\"]], \"type\": \"surface\"}], \"table\": [{\"cells\": {\"fill\": {\"color\": \"#EBF0F8\"}, \"line\": {\"color\": \"white\"}}, \"header\": {\"fill\": {\"color\": \"#C8D4E3\"}, \"line\": {\"color\": \"white\"}}, \"type\": \"table\"}]}, \"layout\": {\"annotationdefaults\": {\"arrowcolor\": \"#2a3f5f\", \"arrowhead\": 0, \"arrowwidth\": 1}, \"coloraxis\": {\"colorbar\": {\"outlinewidth\": 0, \"ticks\": \"\"}}, \"colorscale\": {\"diverging\": [[0, \"#8e0152\"], [0.1, \"#c51b7d\"], [0.2, \"#de77ae\"], [0.3, \"#f1b6da\"], [0.4, \"#fde0ef\"], [0.5, \"#f7f7f7\"], [0.6, \"#e6f5d0\"], [0.7, \"#b8e186\"], [0.8, \"#7fbc41\"], [0.9, \"#4d9221\"], [1, \"#276419\"]], \"sequential\": [[0.0, \"#0d0887\"], [0.1111111111111111, \"#46039f\"], [0.2222222222222222, \"#7201a8\"], [0.3333333333333333, \"#9c179e\"], [0.4444444444444444, \"#bd3786\"], [0.5555555555555556, \"#d8576b\"], [0.6666666666666666, \"#ed7953\"], [0.7777777777777778, \"#fb9f3a\"], [0.8888888888888888, \"#fdca26\"], [1.0, \"#f0f921\"]], \"sequentialminus\": [[0.0, \"#0d0887\"], [0.1111111111111111, \"#46039f\"], [0.2222222222222222, \"#7201a8\"], [0.3333333333333333, \"#9c179e\"], [0.4444444444444444, \"#bd3786\"], [0.5555555555555556, \"#d8576b\"], [0.6666666666666666, \"#ed7953\"], [0.7777777777777778, \"#fb9f3a\"], [0.8888888888888888, \"#fdca26\"], [1.0, \"#f0f921\"]]}, \"colorway\": [\"#636efa\", \"#EF553B\", \"#00cc96\", \"#ab63fa\", \"#FFA15A\", \"#19d3f3\", \"#FF6692\", \"#B6E880\", \"#FF97FF\", \"#FECB52\"], \"font\": {\"color\": \"#2a3f5f\"}, \"geo\": {\"bgcolor\": \"white\", \"lakecolor\": \"white\", \"landcolor\": \"#E5ECF6\", \"showlakes\": true, \"showland\": true, \"subunitcolor\": \"white\"}, \"hoverlabel\": {\"align\": \"left\"}, \"hovermode\": \"closest\", \"mapbox\": {\"style\": \"light\"}, \"paper_bgcolor\": \"white\", \"plot_bgcolor\": \"#E5ECF6\", \"polar\": {\"angularaxis\": {\"gridcolor\": \"white\", \"linecolor\": \"white\", \"ticks\": \"\"}, \"bgcolor\": \"#E5ECF6\", \"radialaxis\": {\"gridcolor\": \"white\", \"linecolor\": \"white\", \"ticks\": \"\"}}, \"scene\": {\"xaxis\": {\"backgroundcolor\": \"#E5ECF6\", \"gridcolor\": \"white\", \"gridwidth\": 2, \"linecolor\": \"white\", \"showbackground\": true, \"ticks\": \"\", \"zerolinecolor\": \"white\"}, \"yaxis\": {\"backgroundcolor\": \"#E5ECF6\", \"gridcolor\": \"white\", \"gridwidth\": 2, \"linecolor\": \"white\", \"showbackground\": true, \"ticks\": \"\", \"zerolinecolor\": \"white\"}, \"zaxis\": {\"backgroundcolor\": \"#E5ECF6\", \"gridcolor\": \"white\", \"gridwidth\": 2, \"linecolor\": \"white\", \"showbackground\": true, \"ticks\": \"\", \"zerolinecolor\": \"white\"}}, \"shapedefaults\": {\"line\": {\"color\": \"#2a3f5f\"}}, \"ternary\": {\"aaxis\": {\"gridcolor\": \"white\", \"linecolor\": \"white\", \"ticks\": \"\"}, \"baxis\": {\"gridcolor\": \"white\", \"linecolor\": \"white\", \"ticks\": \"\"}, \"bgcolor\": \"#E5ECF6\", \"caxis\": {\"gridcolor\": \"white\", \"linecolor\": \"white\", \"ticks\": \"\"}}, \"title\": {\"x\": 0.05}, \"xaxis\": {\"automargin\": true, \"gridcolor\": \"white\", \"linecolor\": \"white\", \"ticks\": \"\", \"title\": {\"standoff\": 15}, \"zerolinecolor\": \"white\", \"zerolinewidth\": 2}, \"yaxis\": {\"automargin\": true, \"gridcolor\": \"white\", \"linecolor\": \"white\", \"ticks\": \"\", \"title\": {\"standoff\": 15}, \"zerolinecolor\": \"white\", \"zerolinewidth\": 2}}}, \"xaxis\": {\"anchor\": \"y\", \"domain\": [0.0, 1.0], \"title\": {\"text\": \"Time\"}}, \"yaxis\": {\"anchor\": \"x\", \"domain\": [0.0, 1.0], \"title\": {\"text\": \"% YoY\"}}},\n",
       "                        {\"responsive\": true}\n",
       "                    ).then(function(){\n",
       "                            \n",
       "var gd = document.getElementById('4637e49f-d444-4167-be28-70f470c53ee6');\n",
       "var x = new MutationObserver(function (mutations, observer) {{\n",
       "        var display = window.getComputedStyle(gd).display;\n",
       "        if (!display || display === 'none') {{\n",
       "            console.log([gd, 'removed!']);\n",
       "            Plotly.purge(gd);\n",
       "            observer.disconnect();\n",
       "        }}\n",
       "}});\n",
       "\n",
       "// Listen for the removal of the full notebook cells\n",
       "var notebookContainer = gd.closest('#notebook-container');\n",
       "if (notebookContainer) {{\n",
       "    x.observe(notebookContainer, {childList: true});\n",
       "}}\n",
       "\n",
       "// Listen for the clearing of the current output cell\n",
       "var outputEl = gd.closest('.output');\n",
       "if (outputEl) {{\n",
       "    x.observe(outputEl, {childList: true});\n",
       "}}\n",
       "\n",
       "                        })\n",
       "                };\n",
       "                });\n",
       "            </script>\n",
       "        </div>"
      ]
     },
     "metadata": {},
     "output_type": "display_data"
    }
   ],
   "source": [
    "fig2 = make_subplots(rows=1, cols=1)\n",
    "\n",
    "fig2.add_trace(go.Scatter(x=gegb_dif.index,y=gegb_dif[\"GEGB Difference\"],name=\"Equities - Bond, %YoY\"),row=1,col=1)\n",
    "\n",
    "fig2.update_xaxes(title_text=\"Time\")\n",
    "fig2.update_yaxes(title_text=\"% YoY\",row=1,col=1)"
   ]
  },
  {
   "cell_type": "code",
   "execution_count": null,
   "metadata": {},
   "outputs": [],
   "source": []
  },
  {
   "cell_type": "code",
   "execution_count": null,
   "metadata": {},
   "outputs": [],
   "source": []
  },
  {
   "cell_type": "code",
   "execution_count": null,
   "metadata": {
    "scrolled": true
   },
   "outputs": [],
   "source": [
    "VHGEX_equities_df_close.resample(\"BMS\")"
   ]
  },
  {
   "cell_type": "code",
   "execution_count": null,
   "metadata": {},
   "outputs": [],
   "source": [
    "VHGEX_equities_df_close[\"1995-10-02\"]"
   ]
  },
  {
   "cell_type": "code",
   "execution_count": null,
   "metadata": {},
   "outputs": [],
   "source": [
    "VHGEX_equities_df_close.resample(\"BMS\").last()"
   ]
  },
  {
   "cell_type": "markdown",
   "metadata": {},
   "source": [
    "#### Global Bonds"
   ]
  },
  {
   "cell_type": "code",
   "execution_count": null,
   "metadata": {},
   "outputs": [],
   "source": []
  },
  {
   "cell_type": "markdown",
   "metadata": {},
   "source": [
    "https://stackoverflow.com/questions/17001389/pandas-resample-documentation"
   ]
  },
  {
   "cell_type": "code",
   "execution_count": null,
   "metadata": {},
   "outputs": [],
   "source": []
  },
  {
   "cell_type": "code",
   "execution_count": null,
   "metadata": {},
   "outputs": [],
   "source": []
  },
  {
   "cell_type": "code",
   "execution_count": null,
   "metadata": {},
   "outputs": [],
   "source": []
  },
  {
   "cell_type": "code",
   "execution_count": null,
   "metadata": {},
   "outputs": [],
   "source": []
  },
  {
   "cell_type": "code",
   "execution_count": null,
   "metadata": {},
   "outputs": [],
   "source": []
  },
  {
   "cell_type": "code",
   "execution_count": null,
   "metadata": {},
   "outputs": [],
   "source": []
  },
  {
   "cell_type": "code",
   "execution_count": null,
   "metadata": {},
   "outputs": [],
   "source": []
  },
  {
   "cell_type": "markdown",
   "metadata": {},
   "source": [
    "#### Plot Adj. Closing Prices"
   ]
  },
  {
   "cell_type": "code",
   "execution_count": null,
   "metadata": {},
   "outputs": [],
   "source": [
    "fig = go.Figure()\n",
    "\n",
    "fig.add_trace(go.Scatter(x=VHGEX_equities_df_close.index,y=VHGEX_equities_df_close,name=\"equities\"))\n",
    "fig.add_trace(go.Scatter(x=VBMFX_bonds_df_close.index,y=VBMFX_bonds_df_close,name=\"bonds\"))\n",
    "\n",
    "fig.show()"
   ]
  },
  {
   "cell_type": "code",
   "execution_count": null,
   "metadata": {},
   "outputs": [],
   "source": []
  },
  {
   "cell_type": "code",
   "execution_count": null,
   "metadata": {},
   "outputs": [],
   "source": [
    "VHGEX_equities_df_close_pct_change = VHGEX_equities_df_close.pct_change(periods=365).dropna()\n",
    "VHGEX_equities_df_close_pct_change"
   ]
  },
  {
   "cell_type": "code",
   "execution_count": null,
   "metadata": {},
   "outputs": [],
   "source": []
  },
  {
   "cell_type": "code",
   "execution_count": null,
   "metadata": {},
   "outputs": [],
   "source": []
  },
  {
   "cell_type": "code",
   "execution_count": null,
   "metadata": {},
   "outputs": [],
   "source": []
  },
  {
   "cell_type": "code",
   "execution_count": null,
   "metadata": {},
   "outputs": [],
   "source": []
  },
  {
   "cell_type": "code",
   "execution_count": null,
   "metadata": {},
   "outputs": [],
   "source": []
  },
  {
   "cell_type": "code",
   "execution_count": null,
   "metadata": {},
   "outputs": [],
   "source": [
    "VHGEX_equities_df_close_pct_change.dropna()"
   ]
  },
  {
   "cell_type": "code",
   "execution_count": null,
   "metadata": {},
   "outputs": [],
   "source": [
    "VHGEX_equities_df_close.isna().sum()"
   ]
  },
  {
   "cell_type": "code",
   "execution_count": null,
   "metadata": {
    "scrolled": true
   },
   "outputs": [],
   "source": [
    "#VHGEX_equities_df_close.plot(figsize=(16,4))"
   ]
  },
  {
   "cell_type": "code",
   "execution_count": null,
   "metadata": {
    "scrolled": true
   },
   "outputs": [],
   "source": [
    "#fig_equities = go.Figure()\n",
    "#fig_equities.add_trace(go.Scatter(x=VHGEX_equities_df_close.index,y=VHGEX_equities_df_close))\n",
    "#fig_equities.show()"
   ]
  },
  {
   "cell_type": "code",
   "execution_count": null,
   "metadata": {},
   "outputs": [],
   "source": [
    "VHGEX_equities_df_close_pct_change = VHGEX_equities_df_close.pct_change(periods=365)\n",
    "VHGEX_equities_df_close_pct_change = VHGEX_equities_df_close.dropna()\n",
    "VHGEX_equities_df_close_pct_change.head()"
   ]
  },
  {
   "cell_type": "code",
   "execution_count": null,
   "metadata": {},
   "outputs": [],
   "source": [
    "VHGEX_equities_df_close_pct_change.isna().sum()"
   ]
  },
  {
   "cell_type": "code",
   "execution_count": null,
   "metadata": {},
   "outputs": [],
   "source": [
    "#fig_equities = go.Figure()"
   ]
  },
  {
   "cell_type": "code",
   "execution_count": null,
   "metadata": {},
   "outputs": [],
   "source": []
  },
  {
   "cell_type": "code",
   "execution_count": null,
   "metadata": {},
   "outputs": [],
   "source": []
  },
  {
   "cell_type": "code",
   "execution_count": null,
   "metadata": {},
   "outputs": [],
   "source": []
  },
  {
   "cell_type": "code",
   "execution_count": null,
   "metadata": {},
   "outputs": [],
   "source": []
  },
  {
   "cell_type": "code",
   "execution_count": null,
   "metadata": {},
   "outputs": [],
   "source": []
  },
  {
   "cell_type": "code",
   "execution_count": null,
   "metadata": {},
   "outputs": [],
   "source": []
  },
  {
   "cell_type": "markdown",
   "metadata": {},
   "source": [
    "### Global Bond"
   ]
  },
  {
   "cell_type": "code",
   "execution_count": null,
   "metadata": {},
   "outputs": [],
   "source": [
    "VBMFX_bonds_df = pd.read_csv(\"VBMFX_OHLCV_YahooFinance_20210305_19861211.csv\")\n",
    "VBMFX_bonds_df.set_index(\"Date\",inplace=True)\n",
    "VBMFX_bonds_df_close = VBMFX_bonds_df['Adj Close']\n",
    "VBMFX_bonds_df_close.head()"
   ]
  },
  {
   "cell_type": "code",
   "execution_count": null,
   "metadata": {},
   "outputs": [],
   "source": [
    "VBMFX_bonds_df_close.isna().sum()"
   ]
  },
  {
   "cell_type": "code",
   "execution_count": null,
   "metadata": {},
   "outputs": [],
   "source": [
    "VBMFX_bonds_df_close.plot(figsize=(16,4))"
   ]
  },
  {
   "cell_type": "code",
   "execution_count": null,
   "metadata": {},
   "outputs": [],
   "source": [
    "fig_bonds = go.Figure()\n",
    "fig_bonds.add_trace(go.Scatter(x=VBMFX_bonds_df_close.index,y=VBMFX_bonds_df_close))\n",
    "fig_bonds.show()"
   ]
  },
  {
   "cell_type": "markdown",
   "metadata": {},
   "source": [
    "### Global Equities Less Global Bond"
   ]
  },
  {
   "cell_type": "code",
   "execution_count": null,
   "metadata": {},
   "outputs": [],
   "source": [
    "test = VHGEX_equities_df_close[:366]"
   ]
  },
  {
   "cell_type": "code",
   "execution_count": null,
   "metadata": {},
   "outputs": [],
   "source": [
    "test"
   ]
  },
  {
   "cell_type": "code",
   "execution_count": null,
   "metadata": {},
   "outputs": [],
   "source": [
    "test.pct_change(periods=365)"
   ]
  },
  {
   "cell_type": "code",
   "execution_count": null,
   "metadata": {},
   "outputs": [],
   "source": []
  },
  {
   "cell_type": "code",
   "execution_count": null,
   "metadata": {},
   "outputs": [],
   "source": []
  },
  {
   "cell_type": "code",
   "execution_count": null,
   "metadata": {},
   "outputs": [],
   "source": []
  },
  {
   "cell_type": "code",
   "execution_count": null,
   "metadata": {
    "scrolled": true
   },
   "outputs": [],
   "source": [
    "VHGEX_equities_df_close_pct_change = VHGEX_equities_df_close.pct_change(periods=365)\n",
    "VHGEX_equities_df_close_pct_change = VHGEX_equities_df_close.dropna()\n",
    "VHGEX_equities_df_close_pct_change.head()"
   ]
  },
  {
   "cell_type": "code",
   "execution_count": null,
   "metadata": {},
   "outputs": [],
   "source": [
    "VHGEX_equities_df_close_pct_change.head(1)"
   ]
  },
  {
   "cell_type": "code",
   "execution_count": null,
   "metadata": {},
   "outputs": [],
   "source": [
    "VHGEX_equities_df_close_pct_change.tail(1)"
   ]
  },
  {
   "cell_type": "code",
   "execution_count": null,
   "metadata": {},
   "outputs": [],
   "source": [
    "len(VHGEX_equities_df_close_pct_change)"
   ]
  },
  {
   "cell_type": "code",
   "execution_count": null,
   "metadata": {},
   "outputs": [],
   "source": [
    "VBMFX_bonds_df_close_pct_change = VBMFX_bonds_df_close.pct_change(periods=365)\n",
    "VBMFX_bonds_df_close_pct_change = VBMFX_bonds_df_close_pct_change.dropna()\n",
    "VBMFX_bonds_df_close_pct_change.head()"
   ]
  },
  {
   "cell_type": "code",
   "execution_count": null,
   "metadata": {},
   "outputs": [],
   "source": [
    "VBMFX_bonds_df_close_pct_change.head(1)"
   ]
  },
  {
   "cell_type": "code",
   "execution_count": null,
   "metadata": {
    "scrolled": true
   },
   "outputs": [],
   "source": [
    "VBMFX_bonds_df_close_pct_change.tail(1)"
   ]
  },
  {
   "cell_type": "code",
   "execution_count": null,
   "metadata": {},
   "outputs": [],
   "source": [
    "len(VBMFX_bonds_df_close_pct_change)"
   ]
  },
  {
   "cell_type": "code",
   "execution_count": null,
   "metadata": {},
   "outputs": [],
   "source": [
    "gegb = pd.concat([VHGEX_equities_df_close_pct_change,VBMFX_bonds_df_close_pct_change],axis=1).dropna()\n",
    "cols = [\"Global Equities\",\"Global Bonds\"]\n",
    "gegb.columns = cols"
   ]
  },
  {
   "cell_type": "code",
   "execution_count": null,
   "metadata": {},
   "outputs": [],
   "source": [
    "gegb.head()"
   ]
  },
  {
   "cell_type": "code",
   "execution_count": null,
   "metadata": {},
   "outputs": [],
   "source": [
    "gegb.tail()"
   ]
  },
  {
   "cell_type": "code",
   "execution_count": null,
   "metadata": {},
   "outputs": [],
   "source": [
    "gegb[\"GEGB Difference\"] = gegb[\"Global Equities\"] - gegb[\"Global Bonds\"]\n",
    "gegb.head()"
   ]
  },
  {
   "cell_type": "code",
   "execution_count": null,
   "metadata": {},
   "outputs": [],
   "source": [
    "fig2 = go.Figure()\n",
    "\n",
    "#fig2.add_trace(go.Scatter(x=gegb.index,y=gegb[\"Global Equities\"]))\n",
    "\n",
    "fig2.add_trace(go.Scatter(x=gegb.index,y=gegb[\"Global Bonds\"]))\n",
    "\n",
    "#fig2.add_trace(go.Scatter(x=gegb.index,y=gegb[\"GEGB Difference\"]))"
   ]
  },
  {
   "cell_type": "code",
   "execution_count": null,
   "metadata": {},
   "outputs": [],
   "source": [
    "fig2 = go.Figure()\n",
    "\n",
    "fig2.add_trace(go.Scatter(x=gegb.index,y=gegb[\"Global Equities\"]))\n",
    "\n",
    "#fig2.add_trace(go.Scatter(x=gegb.index,y=gegb[\"Global Bonds\"]))\n",
    "\n",
    "#fig2.add_trace(go.Scatter(x=gegb.index,y=gegb[\"GEGB Difference\"]))"
   ]
  },
  {
   "cell_type": "code",
   "execution_count": null,
   "metadata": {},
   "outputs": [],
   "source": []
  }
 ],
 "metadata": {
  "kernelspec": {
   "display_name": "Python 3",
   "language": "python",
   "name": "python3"
  },
  "language_info": {
   "codemirror_mode": {
    "name": "ipython",
    "version": 3
   },
   "file_extension": ".py",
   "mimetype": "text/x-python",
   "name": "python",
   "nbconvert_exporter": "python",
   "pygments_lexer": "ipython3",
   "version": "3.7.4"
  }
 },
 "nbformat": 4,
 "nbformat_minor": 2
}
